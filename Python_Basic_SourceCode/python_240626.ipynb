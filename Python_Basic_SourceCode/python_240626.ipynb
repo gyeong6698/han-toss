{
 "cells": [
  {
   "cell_type": "markdown",
   "id": "71341732-974d-46a0-b39b-60a5b6edee5e",
   "metadata": {},
   "source": [
    "# 목차1 - 식별자\n",
    "-식별자에 대해 배웁니다. "
   ]
  },
  {
   "cell_type": "code",
   "execution_count": 1,
   "id": "d2a4206a-2c3a-421c-b18a-0a1bebca5d19",
   "metadata": {},
   "outputs": [
    {
     "data": {
      "text/plain": [
       "2"
      ]
     },
     "execution_count": 1,
     "metadata": {},
     "output_type": "execute_result"
    }
   ],
   "source": [
    "1+1"
   ]
  },
  {
   "cell_type": "markdown",
   "id": "610cc156-a6b6-4c07-a06c-5a22968a32dc",
   "metadata": {
    "jp-MarkdownHeadingCollapsed": true
   },
   "source": [
    "## 스네이크 케이스와 캐멀 케이스\n",
    "- 각 프로그래밍 언어마다 양식이 존재함\n",
    "- 클래스를 정의할 때, 앞문자가 대문자여야 함 / CamelCase\n",
    "- 함수를 정의할 때, snake_case 방식으로 사용하라. "
   ]
  },
  {
   "cell_type": "markdown",
   "id": "2fb53f28-0852-4766-81bf-20224ad2bbd3",
   "metadata": {},
   "source": [
    "# 목차2 - 식별자 구분하기"
   ]
  },
  {
   "cell_type": "markdown",
   "id": "d9545a5e-11e8-414e-a19f-36f8cb524143",
   "metadata": {},
   "source": [
    "print() # 소문자\n",
    "list() # 소문자\n",
    "class Animal # 대문자\n",
    "BeautifulSoul() # 대문자 / 클래스 "
   ]
  },
  {
   "cell_type": "markdown",
   "id": "c98f8423-6a70-4086-8947-0fc8dc91e63a",
   "metadata": {},
   "source": [
    "## 입력과 출력\n",
    "- input() : 입력\n",
    "- print() : 출력"
   ]
  },
  {
   "cell_type": "code",
   "execution_count": 14,
   "id": "17bfe98a-294a-401d-951d-89c6d686ec4c",
   "metadata": {},
   "outputs": [
    {
     "name": "stdout",
     "output_type": "stream",
     "text": [
      "아무거나 입력하세요!!! 5\n"
     ]
    },
    {
     "name": "stdout",
     "output_type": "stream",
     "text": [
      "5\n"
     ]
    }
   ],
   "source": [
    "var1 = input(\"아무거나 입력하세요!!!\")\n",
    "print(var1)"
   ]
  },
  {
   "cell_type": "code",
   "execution_count": null,
   "id": "7ada6d2f-ca23-4707-8bc9-38ddd93a3af6",
   "metadata": {},
   "outputs": [],
   "source": [
    "- 숫자 출력과 문자 출력 다름"
   ]
  },
  {
   "cell_type": "code",
   "execution_count": 5,
   "id": "9b64d662-797f-4d3d-bab0-ae6e4c18ca61",
   "metadata": {},
   "outputs": [
    {
     "name": "stdout",
     "output_type": "stream",
     "text": [
      "하나만 출력합니다\n",
      "\n",
      "10 20 30\n"
     ]
    }
   ],
   "source": [
    "print(\" 하나만 출력합니다\")\n",
    "print()\n",
    "print(10, 20, 30)"
   ]
  },
  {
   "cell_type": "code",
   "execution_count": null,
   "id": "0e776ee5-157e-471a-9e05-a76c076655c1",
   "metadata": {},
   "outputs": [],
   "source": [
    "## 자료형과 문자열\n",
    "- 숫자 : 물건의 가격\n",
    "- 문자 : 메시지 내용\n",
    "- 논리 / True or False"
   ]
  },
  {
   "cell_type": "code",
   "execution_count": 1,
   "id": "ff5b7f8d-f224-4a8f-9a88-6c7dbfceaa2c",
   "metadata": {},
   "outputs": [
    {
     "name": "stdout",
     "output_type": "stream",
     "text": [
      "<class 'str'>\n"
     ]
    }
   ],
   "source": [
    "print(type(\"안녕하세요\"))"
   ]
  },
  {
   "cell_type": "code",
   "execution_count": 3,
   "id": "a53687ab-b488-4714-b415-1023c8013973",
   "metadata": {},
   "outputs": [
    {
     "name": "stdout",
     "output_type": "stream",
     "text": [
      "<class 'pandas.core.frame.DataFrame'>\n"
     ]
    }
   ],
   "source": [
    "import pandas as pd \n",
    "df = pd.DataFrame({\n",
    "    'col1' : [1, 2, 3], \n",
    "    'col2' : [1, 2, 3], \n",
    "})\n",
    "\n",
    "print(type(df))"
   ]
  },
  {
   "cell_type": "markdown",
   "id": "1fcb76d7-566b-4964-9282-a8ee5270adaa",
   "metadata": {},
   "source": [
    "## 문자열 만들기\n",
    "- 큰 따옴표 방식 / 작은 따옴표 방식 \n",
    "- 결론부터 말하면, 지금은 크게 구분하지 않는다. \n",
    "- 주의해야 하는 것은 \"\", '' 식으로 매칭. 혼용은 불가능. "
   ]
  },
  {
   "cell_type": "code",
   "execution_count": 11,
   "id": "3658ddb9-b501-4f67-ac12-908b8eb65da2",
   "metadata": {},
   "outputs": [
    {
     "name": "stdout",
     "output_type": "stream",
     "text": [
      "안녕하세요\n"
     ]
    }
   ],
   "source": [
    "print('안녕하세요')"
   ]
  },
  {
   "cell_type": "code",
   "execution_count": 13,
   "id": "7ecbaab1-27f7-4019-98c8-d80e5c700c9d",
   "metadata": {},
   "outputs": [
    {
     "name": "stdout",
     "output_type": "stream",
     "text": [
      "\"안녕하세요\"라고 말했습니다\n"
     ]
    }
   ],
   "source": [
    "print('\"안녕하세요\"라고 말했습니다')"
   ]
  },
  {
   "cell_type": "code",
   "execution_count": null,
   "id": "ecf1a186-7d3d-4702-b0f7-9310eee520b6",
   "metadata": {},
   "outputs": [],
   "source": [
    "#이스케이프 문자 \n",
    "- \\n : 줄바꿈\n",
    "- \\t : 탭\n",
    "- \\\\ : 역슬래시(\\)를 의미 "
   ]
  },
  {
   "cell_type": "code",
   "execution_count": 14,
   "id": "a8db556f-b37a-4419-b8be-770a0309abbe",
   "metadata": {},
   "outputs": [
    {
     "name": "stdout",
     "output_type": "stream",
     "text": [
      "안녕하세요\n",
      "안녕하세요\n"
     ]
    }
   ],
   "source": [
    "print(\"안녕하세요\\n안녕하세요\")"
   ]
  },
  {
   "cell_type": "code",
   "execution_count": 16,
   "id": "6d1f1c69-eb5e-4d1f-9e09-dbe24f161b81",
   "metadata": {},
   "outputs": [
    {
     "name": "stdout",
     "output_type": "stream",
     "text": [
      "안녕하세요\t안녕하세요\\\n"
     ]
    }
   ],
   "source": [
    "print(\"안녕하세요\\t안녕하세요\\\\\")"
   ]
  },
  {
   "cell_type": "markdown",
   "id": "19714c38-d435-4d6e-b69c-8d3071cbe391",
   "metadata": {},
   "source": [
    "## 문자열 연산자 (중요)\n",
    "- 사칙연산 중에서 덧셈과 곱셈 사용 가능"
   ]
  },
  {
   "cell_type": "code",
   "execution_count": 17,
   "id": "64d176cf-e46a-4679-b027-bc86b41c4a18",
   "metadata": {},
   "outputs": [
    {
     "name": "stdout",
     "output_type": "stream",
     "text": [
      "4\n",
      "3\n",
      "18\n",
      "0.5\n"
     ]
    }
   ],
   "source": [
    "print(2+2)\n",
    "print(5-2)\n",
    "print(6*3)\n",
    "print(3/6)"
   ]
  },
  {
   "cell_type": "code",
   "execution_count": 18,
   "id": "096500bc-8d2f-41bc-b636-024442125f3e",
   "metadata": {},
   "outputs": [
    {
     "name": "stdout",
     "output_type": "stream",
     "text": [
      "안녕하세요\n"
     ]
    }
   ],
   "source": [
    "print(\"안녕\" + \"하세요\")"
   ]
  },
  {
   "cell_type": "code",
   "execution_count": 19,
   "id": "0f92547e-de58-4c70-ae06-602ce3d12e2a",
   "metadata": {},
   "outputs": [
    {
     "name": "stdout",
     "output_type": "stream",
     "text": [
      "안녕하세요\n"
     ]
    }
   ],
   "source": [
    "var1 = \"안녕\"\n",
    "var2 = \"하세요\"\n",
    "\n",
    "result = var1+var2\n",
    "print(result)"
   ]
  },
  {
   "cell_type": "code",
   "execution_count": 27,
   "id": "318d83b6-2cb9-456e-8a8f-e5739715e418",
   "metadata": {},
   "outputs": [
    {
     "name": "stdout",
     "output_type": "stream",
     "text": [
      "1안녕\n"
     ]
    }
   ],
   "source": [
    "print(\"1안녕\")"
   ]
  },
  {
   "cell_type": "markdown",
   "id": "c70c8d5e-9e53-41de-804b-ae2ca33f5034",
   "metadata": {},
   "source": [
    "num1 = 1\n",
    "var1 = \"안녕\"\n",
    "\n",
    "result = str(num1) + var1\n",
    "print(result)"
   ]
  },
  {
   "cell_type": "code",
   "execution_count": 42,
   "id": "cbaf8fb6-ddac-47fb-bd3f-3ea792a04291",
   "metadata": {},
   "outputs": [
    {
     "name": "stdout",
     "output_type": "stream",
     "text": [
      "2\n"
     ]
    }
   ],
   "source": [
    "num2 = 1\n",
    "\n",
    "result = num1 + num2\n",
    "print(result)"
   ]
  },
  {
   "cell_type": "code",
   "execution_count": 33,
   "id": "6cb185d8-936b-4423-86e2-2e955149c5e6",
   "metadata": {},
   "outputs": [
    {
     "name": "stdout",
     "output_type": "stream",
     "text": [
      "<class 'int'>\n"
     ]
    }
   ],
   "source": [
    "num3 = 1\n",
    "print(type(num3))"
   ]
  },
  {
   "cell_type": "code",
   "execution_count": 39,
   "id": "351bb65b-096d-4989-bcfc-49d9ffe61f5f",
   "metadata": {},
   "outputs": [
    {
     "name": "stdout",
     "output_type": "stream",
     "text": [
      "<class 'str'>\n"
     ]
    }
   ],
   "source": [
    "print(type(var1))"
   ]
  },
  {
   "cell_type": "markdown",
   "id": "e15bab3e-670c-45d4-a6e9-53c69a81a9d8",
   "metadata": {},
   "source": [
    "## 문자 선택 연산자(인덱싱) : []\n",
    "-리스트, 튜플 등등 원리는 동일"
   ]
  },
  {
   "cell_type": "code",
   "execution_count": 45,
   "id": "4d6028ec-56ca-4486-8ded-b580b6de4daf",
   "metadata": {},
   "outputs": [
    {
     "name": "stdout",
     "output_type": "stream",
     "text": [
      "안\n",
      "녕\n",
      "하\n",
      "요\n"
     ]
    }
   ],
   "source": [
    "var1 = \"안녕하세요\"\n",
    "print(var1[0])\n",
    "print(var1[1])\n",
    "print(var1[2])\n",
    "print(var1[-1])"
   ]
  },
  {
   "cell_type": "code",
   "execution_count": 50,
   "id": "726eadf1-7ae7-4c62-bd73-df857e586642",
   "metadata": {},
   "outputs": [
    {
     "name": "stdout",
     "output_type": "stream",
     "text": [
      "H\n",
      " \n",
      "!\n"
     ]
    }
   ],
   "source": [
    "var2 = \"Hello, Python!!!\"\n",
    "print(var2[0])\n",
    "print(var2[6])\n",
    "print(var2[-1])"
   ]
  },
  {
   "cell_type": "markdown",
   "id": "07f466a7-1ce9-4963-92fe-49a1440d080d",
   "metadata": {},
   "source": [
    "## 문자열 범위 선택(슬라이싱) [:] (중요)\n",
    "- 리스트, 튜플 등 자료형과 원리 동일"
   ]
  },
  {
   "cell_type": "code",
   "execution_count": 60,
   "id": "fc3ef85a-c8ee-4f0b-8af7-695403a13b1d",
   "metadata": {},
   "outputs": [
    {
     "name": "stdout",
     "output_type": "stream",
     "text": [
      "Python!!!\n",
      "Hello,\n"
     ]
    }
   ],
   "source": [
    "var1 = \"Hello, Python!!!\"\n",
    "print(var1[7:])\n",
    "print(var1[:6])"
   ]
  },
  {
   "cell_type": "code",
   "execution_count": 62,
   "id": "ef46659e-88a5-4ac4-a541-6fed18054713",
   "metadata": {},
   "outputs": [
    {
     "data": {
      "text/plain": [
       "16"
      ]
     },
     "execution_count": 62,
     "metadata": {},
     "output_type": "execute_result"
    }
   ],
   "source": [
    "#전체 문자열의 길이\n",
    "var1 = \"Hello, Python!!!\"\n",
    "len(var1)"
   ]
  },
  {
   "cell_type": "code",
   "execution_count": 65,
   "id": "a3977b22-75b4-4787-b46d-2c5334a04eca",
   "metadata": {},
   "outputs": [
    {
     "name": "stdout",
     "output_type": "stream",
     "text": [
      "bbbbbbbbbb\n"
     ]
    }
   ],
   "source": [
    "var1 = \"abababababababababab\"\n",
    "print(var1[1::2])"
   ]
  },
  {
   "cell_type": "markdown",
   "id": "69cc7c1b-0047-460b-b749-f265149f08d6",
   "metadata": {},
   "source": [
    "# 목차3 - 자료형과 숫자"
   ]
  },
  {
   "cell_type": "markdown",
   "id": "c14794c2-ce06-41e6-916f-5deaa9835299",
   "metadata": {},
   "source": [
    "## 지수표현"
   ]
  },
  {
   "cell_type": "code",
   "execution_count": 68,
   "id": "1bac9dbe-9e45-4200-a315-0b09b55b2ff3",
   "metadata": {},
   "outputs": [
    {
     "data": {
      "text/plain": [
       "52.273"
      ]
     },
     "execution_count": 68,
     "metadata": {},
     "output_type": "execute_result"
    }
   ],
   "source": [
    "0.52273e2"
   ]
  },
  {
   "cell_type": "code",
   "execution_count": 69,
   "id": "67b80a48-f973-421c-aa99-7f55b85fc6a8",
   "metadata": {},
   "outputs": [
    {
     "data": {
      "text/plain": [
       "0.0052273"
      ]
     },
     "execution_count": 69,
     "metadata": {},
     "output_type": "execute_result"
    }
   ],
   "source": [
    "0.52273e-2"
   ]
  },
  {
   "cell_type": "markdown",
   "id": "36a79c11-4562-4e5e-91a7-061fdc3be3dd",
   "metadata": {},
   "source": [
    "## 사칙연산"
   ]
  },
  {
   "cell_type": "code",
   "execution_count": 73,
   "id": "1f11ae63-25db-4288-a02e-ac8b0b5d1020",
   "metadata": {},
   "outputs": [
    {
     "data": {
      "text/plain": [
       "2.0"
      ]
     },
     "execution_count": 73,
     "metadata": {},
     "output_type": "execute_result"
    }
   ],
   "source": [
    "6/3"
   ]
  },
  {
   "cell_type": "code",
   "execution_count": 74,
   "id": "ff37ecac-4627-4ab8-8b6b-ffabefc47844",
   "metadata": {},
   "outputs": [
    {
     "data": {
      "text/plain": [
       "9"
      ]
     },
     "execution_count": 74,
     "metadata": {},
     "output_type": "execute_result"
    }
   ],
   "source": [
    "6+3"
   ]
  },
  {
   "cell_type": "code",
   "execution_count": 75,
   "id": "5cbf066a-32ee-4453-bcff-98134ac2e6d3",
   "metadata": {},
   "outputs": [
    {
     "data": {
      "text/plain": [
       "5.0"
      ]
     },
     "execution_count": 75,
     "metadata": {},
     "output_type": "execute_result"
    }
   ],
   "source": [
    "2.0 + 3"
   ]
  },
  {
   "cell_type": "code",
   "execution_count": 76,
   "id": "6a3e3365-d107-4539-8884-d87dd2a531d0",
   "metadata": {},
   "outputs": [
    {
     "data": {
      "text/plain": [
       "1"
      ]
     },
     "execution_count": 76,
     "metadata": {},
     "output_type": "execute_result"
    }
   ],
   "source": [
    "3 // 2# // 나누기 연산자"
   ]
  },
  {
   "cell_type": "code",
   "execution_count": 77,
   "id": "2092aee0-1a68-4dfe-9145-44baff306af8",
   "metadata": {},
   "outputs": [
    {
     "data": {
      "text/plain": [
       "2"
      ]
     },
     "execution_count": 77,
     "metadata": {},
     "output_type": "execute_result"
    }
   ],
   "source": [
    "5 % 3 # 나머지 연산자"
   ]
  },
  {
   "cell_type": "code",
   "execution_count": 78,
   "id": "3a2ceed3-1e30-4646-aca0-f5a23ce77a15",
   "metadata": {},
   "outputs": [
    {
     "data": {
      "text/plain": [
       "4"
      ]
     },
     "execution_count": 78,
     "metadata": {},
     "output_type": "execute_result"
    }
   ],
   "source": [
    "2 ** 2"
   ]
  },
  {
   "cell_type": "code",
   "execution_count": 79,
   "id": "00a306c6-9e45-478a-b016-42a04b46098b",
   "metadata": {},
   "outputs": [
    {
     "data": {
      "text/plain": [
       "81"
      ]
     },
     "execution_count": 79,
     "metadata": {},
     "output_type": "execute_result"
    }
   ],
   "source": [
    "3 ** 4"
   ]
  },
  {
   "cell_type": "markdown",
   "id": "1557ebf5-c655-4966-8587-cc113d2ada3e",
   "metadata": {},
   "source": [
    "## 복합 대입 연산자"
   ]
  },
  {
   "cell_type": "code",
   "execution_count": 80,
   "id": "0fb8c8c2-9d73-4579-b095-0ca24f4a1af3",
   "metadata": {},
   "outputs": [
    {
     "name": "stdout",
     "output_type": "stream",
     "text": [
      "110\n"
     ]
    }
   ],
   "source": [
    "number = 100\n",
    "number = number + 10\n",
    "print(number)"
   ]
  },
  {
   "cell_type": "code",
   "execution_count": 81,
   "id": "8faa7d0b-74ee-4243-833b-e540ed8ce1d9",
   "metadata": {},
   "outputs": [
    {
     "name": "stdout",
     "output_type": "stream",
     "text": [
      "110\n"
     ]
    }
   ],
   "source": [
    "number = 100\n",
    "number += 10\n",
    "print(number)"
   ]
  },
  {
   "cell_type": "code",
   "execution_count": 82,
   "id": "cc43efff-d066-4dec-8394-c2a0994b59f5",
   "metadata": {},
   "outputs": [
    {
     "name": "stdout",
     "output_type": "stream",
     "text": [
      "안녕i\n"
     ]
    }
   ],
   "source": [
    "sample_text = \"안녕\"\n",
    "sample_text = sample_text + \"i\"\n",
    "print(sample_text)"
   ]
  },
  {
   "cell_type": "code",
   "execution_count": 83,
   "id": "88819fcb-496a-476f-b952-584c99b0ae95",
   "metadata": {},
   "outputs": [
    {
     "name": "stdout",
     "output_type": "stream",
     "text": [
      "안녕i\n"
     ]
    }
   ],
   "source": [
    "sample_text = \"안녕\"\n",
    "sample_text += \"i\"\n",
    "print(sample_text)"
   ]
  },
  {
   "cell_type": "markdown",
   "id": "2755caca-29b1-4ae4-a765-d2cfcf9708ba",
   "metadata": {},
   "source": [
    "## Input()"
   ]
  },
  {
   "cell_type": "code",
   "execution_count": 4,
   "id": "39977121-128b-41f9-8ea7-eb1a9c027ad1",
   "metadata": {},
   "outputs": [
    {
     "name": "stdout",
     "output_type": "stream",
     "text": [
      "숫자를 입력하세요!! 5\n",
      "숫자를 입력하세요!! 5\n"
     ]
    },
    {
     "name": "stdout",
     "output_type": "stream",
     "text": [
      "<class 'str'> <class 'int'>\n",
      "10\n"
     ]
    }
   ],
   "source": [
    "num1 = input(\"숫자를 입력하세요!!\")\n",
    "num2 = int(input(\"숫자를 입력하세요!!\"))\n",
    "\n",
    "\n",
    "print(type(num1), type(num2))\n",
    "\n",
    "result = int(num1) + num2\n",
    "print(result)"
   ]
  },
  {
   "cell_type": "code",
   "execution_count": 5,
   "id": "dc008cad-5518-4343-bc86-d9df202de00d",
   "metadata": {},
   "outputs": [
    {
     "name": "stdout",
     "output_type": "stream",
     "text": [
      "52\n",
      "52.273\n"
     ]
    }
   ],
   "source": [
    "num1 = \"52\"\n",
    "num2 = \"52.273\"\n",
    "\n",
    "print(int(num1))\n",
    "print(float(num2))"
   ]
  },
  {
   "cell_type": "code",
   "execution_count": 6,
   "id": "a66d2953-e75f-4b71-b7f7-d762b0ead321",
   "metadata": {},
   "outputs": [
    {
     "name": "stdout",
     "output_type": "stream",
     "text": [
      "52.0\n"
     ]
    }
   ],
   "source": [
    "print(float(num1))"
   ]
  },
  {
   "cell_type": "code",
   "execution_count": null,
   "id": "13431bbf-058f-4e61-b449-c451fb117a13",
   "metadata": {},
   "outputs": [],
   "source": [
    "소수점이 있는 문자열은 바로 정수 변환이 되지 않음 ( 주의) \n",
    "- 문자열 → 실수형 → 정수형"
   ]
  },
  {
   "cell_type": "code",
   "execution_count": 11,
   "id": "b3db30f5-b23e-473f-81c4-8163801ed27e",
   "metadata": {},
   "outputs": [
    {
     "name": "stdout",
     "output_type": "stream",
     "text": [
      "52\n"
     ]
    }
   ],
   "source": [
    "print(int(float(num2)))"
   ]
  },
  {
   "cell_type": "markdown",
   "id": "a4ec5a47-bc8e-43fb-8683-5f2a96441d36",
   "metadata": {},
   "source": [
    "## 문자열 포맷팅\n",
    "-강사는 f-문자열 좋아함 \n",
    "-'f'문자열{표현식}문자열'"
   ]
  },
  {
   "cell_type": "code",
   "execution_count": 12,
   "id": "9c034ad2-ae5d-4065-b478-ea4c9e499e4f",
   "metadata": {},
   "outputs": [
    {
     "data": {
      "text/plain": [
       "'10'"
      ]
     },
     "execution_count": 12,
     "metadata": {},
     "output_type": "execute_result"
    }
   ],
   "source": [
    "# {} format() 함수 방식\n",
    "num1 = 10\n",
    "\"{}\".format(num1)"
   ]
  },
  {
   "cell_type": "code",
   "execution_count": 24,
   "id": "c6a8d058-4cec-428a-a0d3-f4a76d999123",
   "metadata": {},
   "outputs": [
    {
     "data": {
      "text/plain": [
       "'10'"
      ]
     },
     "execution_count": 24,
     "metadata": {},
     "output_type": "execute_result"
    }
   ],
   "source": [
    "# f-문자열 방식\n",
    "num1 = 10\n",
    "f'{num1}'"
   ]
  },
  {
   "cell_type": "markdown",
   "id": "32f5755a-3254-4241-969d-cab424dd1614",
   "metadata": {},
   "source": [
    "## 문자열의 내장 메서드\n",
    "- 공식문서 꼭 확인\n",
    "- https://docs.python.org/3/library/stdtypes.html#string-methods"
   ]
  },
  {
   "cell_type": "code",
   "execution_count": 16,
   "id": "031371f0-a6f5-4e26-9a16-825f0f137e26",
   "metadata": {},
   "outputs": [
    {
     "name": "stdout",
     "output_type": "stream",
     "text": [
      "True\n",
      "False\n",
      "False\n",
      "True\n"
     ]
    }
   ],
   "source": [
    "#str.isdigit()\n",
    "s1 = \"12345\"\n",
    "print(s1.isdigit())  # Output: True\n",
    "\n",
    "# Example 2: Contains non-digit characters\n",
    "s2 = \"12345a\"\n",
    "print(s2.isdigit())  # Output: False\n",
    "\n",
    "# Example 3: Empty string\n",
    "s3 = \"\"\n",
    "print(s3.isdigit())  # Output: False\n",
    "\n",
    "# Example 4: Unicode digits\n",
    "s4 = \"²³\"\n",
    "print(s4.isdigit())  # Output: True"
   ]
  },
  {
   "cell_type": "code",
   "execution_count": 17,
   "id": "470c9ba4-1b99-4fc9-a527-1d3ee335179d",
   "metadata": {},
   "outputs": [
    {
     "name": "stdout",
     "output_type": "stream",
     "text": [
      "True\n"
     ]
    }
   ],
   "source": [
    "print(\"안녕\"in\"안녕하세요\")"
   ]
  },
  {
   "cell_type": "code",
   "execution_count": 18,
   "id": "5bf3093d-af35-4e80-ab55-7fc2abca5ead",
   "metadata": {},
   "outputs": [
    {
     "name": "stdout",
     "output_type": "stream",
     "text": [
      "True\n"
     ]
    }
   ],
   "source": [
    "print(\"안\"in\"안녕하세요\")"
   ]
  },
  {
   "cell_type": "code",
   "execution_count": 19,
   "id": "776399fc-6dca-49d0-a427-fe63d1718ba5",
   "metadata": {},
   "outputs": [
    {
     "name": "stdout",
     "output_type": "stream",
     "text": [
      "False\n"
     ]
    }
   ],
   "source": [
    "print(\"안녕허\"in\"안녕하세요\")"
   ]
  },
  {
   "cell_type": "code",
   "execution_count": 22,
   "id": "40fa5889-6b17-48b0-9e5a-65ea7c14fe64",
   "metadata": {},
   "outputs": [
    {
     "data": {
      "text/plain": [
       "['10', '20', '30', '40', '50']"
      ]
     },
     "execution_count": 22,
     "metadata": {},
     "output_type": "execute_result"
    }
   ],
   "source": [
    "a = \"10 20 30 40 50\".split(sep=\" \")\n",
    "a"
   ]
  },
  {
   "cell_type": "code",
   "execution_count": 23,
   "id": "903753c1-41f0-4c7a-ac22-7be6d6a89a8f",
   "metadata": {},
   "outputs": [
    {
     "name": "stdout",
     "output_type": "stream",
     "text": [
      "['sample', 'file', 'txt']\n"
     ]
    }
   ],
   "source": [
    "filename = \"sample.file.txt\"\n",
    "parts = filename.split('.')\n",
    "print(parts)"
   ]
  },
  {
   "cell_type": "markdown",
   "id": "85b59765-65fc-442c-8bb2-f93561d0a1c3",
   "metadata": {},
   "source": [
    "## 리스트와 튜플"
   ]
  },
  {
   "cell_type": "code",
   "execution_count": 36,
   "id": "47ab60f4-40e4-44fe-8a24-2be7fe2fffee",
   "metadata": {},
   "outputs": [],
   "source": [
    "a = list()\n",
    "b = []\n",
    "c = [1, 2, 3]\n",
    "d = [\"a\", \"b\", \"c\"]\n",
    "e = [1, 2, \"a\", None, True] \n",
    "f = [1, 2, 3, [1, 2, \"Hello, Python!!!\", None, True]] #Nested List, 중첩 리스트 "
   ]
  },
  {
   "cell_type": "code",
   "execution_count": 37,
   "id": "56855a70-51df-460c-b28c-08ba08514ad2",
   "metadata": {},
   "outputs": [
    {
     "name": "stdout",
     "output_type": "stream",
     "text": [
      "[]\n",
      "[1, 2, 3, [1, 2, 'Hello, Python!!!', None, True]]\n"
     ]
    }
   ],
   "source": [
    "print(a)\n",
    "print(f)"
   ]
  },
  {
   "cell_type": "code",
   "execution_count": 38,
   "id": "7a094e9d-4ec4-4dd4-a539-9a750df5b739",
   "metadata": {},
   "outputs": [
    {
     "name": "stdout",
     "output_type": "stream",
     "text": [
      "[1, 2, 'Hello, Python!!!', None, True]\n"
     ]
    }
   ],
   "source": [
    "print(f[3])"
   ]
  },
  {
   "cell_type": "code",
   "execution_count": 39,
   "id": "100b80fd-fbb0-4522-be68-9ba7d71c48fe",
   "metadata": {},
   "outputs": [
    {
     "data": {
      "text/plain": [
       "'Python'"
      ]
     },
     "execution_count": 39,
     "metadata": {},
     "output_type": "execute_result"
    }
   ],
   "source": [
    "f_a = f[3]\n",
    "text = f_a[2]\n",
    "text[7:13]"
   ]
  },
  {
   "cell_type": "code",
   "execution_count": 45,
   "id": "f5b44cf3-68f9-4053-9835-b2f47a7a292a",
   "metadata": {},
   "outputs": [
    {
     "name": "stdout",
     "output_type": "stream",
     "text": [
      "[1, 2, 3, 4, 5, 6, [1, 2, 'Hi,,,, !! Python !!! Hello, ', None, True]]\n"
     ]
    }
   ],
   "source": [
    "g = [1, 2, 3, 4, 5, 6, [1, 2, \"Hi,,,, !! Python !!! Hello, \", None, True]]\n",
    "print(g)"
   ]
  },
  {
   "cell_type": "code",
   "execution_count": 46,
   "id": "5e55f607-c4d7-4d4c-b0f3-1a2dc834f126",
   "metadata": {},
   "outputs": [
    {
     "name": "stdout",
     "output_type": "stream",
     "text": [
      "[1, 2, 'Hi,,,, !! Python !!! Hello, ', None, True]\n"
     ]
    }
   ],
   "source": [
    "print(g[6])"
   ]
  },
  {
   "cell_type": "code",
   "execution_count": 58,
   "id": "ce840c05-15f4-49aa-bcb1-fffb312529fd",
   "metadata": {},
   "outputs": [
    {
     "data": {
      "text/plain": [
       "'Python'"
      ]
     },
     "execution_count": 58,
     "metadata": {},
     "output_type": "execute_result"
    }
   ],
   "source": [
    "g_a = g[2]\n",
    "text[7:13]"
   ]
  },
  {
   "cell_type": "code",
   "execution_count": 55,
   "id": "b9d457cf-781e-4537-b4ce-bcc762621979",
   "metadata": {},
   "outputs": [
    {
     "name": "stdout",
     "output_type": "stream",
     "text": [
      "Python\n"
     ]
    }
   ],
   "source": [
    "g = [1, 2, 3, 4, 5, 6, [1, 2, \"Hi,,,, !! Python !!! Hello, \", None, True]]\n",
    "result = g[6][2][10:16]\n",
    "print(result)"
   ]
  }
 ],
 "metadata": {
  "kernelspec": {
   "display_name": "Python 3 (ipykernel)",
   "language": "python",
   "name": "python3"
  },
  "language_info": {
   "codemirror_mode": {
    "name": "ipython",
    "version": 3
   },
   "file_extension": ".py",
   "mimetype": "text/x-python",
   "name": "python",
   "nbconvert_exporter": "python",
   "pygments_lexer": "ipython3",
   "version": "3.11.7"
  }
 },
 "nbformat": 4,
 "nbformat_minor": 5
}
