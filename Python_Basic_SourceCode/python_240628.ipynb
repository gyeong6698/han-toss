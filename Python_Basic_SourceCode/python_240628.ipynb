{
 "cells": [
  {
   "cell_type": "markdown",
   "id": "2a4caa2c-ef1a-4edb-ab09-ea6900fbc683",
   "metadata": {},
   "source": [
    "# 목차 1. 함수 만들기\n",
    "- 공식문서 볼 때 필수 확인사항 2가지\n",
    "      + 매개변수 입력 방법(or 자료형)\n",
    "      + 반환값, 반환되는 자료형의 형태(int, str, array, list, DataFrame, etc)"
   ]
  },
  {
   "cell_type": "code",
   "execution_count": 1,
   "id": "04e88b79-4a5e-4677-9d48-41c9d175ee6d",
   "metadata": {},
   "outputs": [
    {
     "data": {
      "text/plain": [
       "5"
      ]
     },
     "execution_count": 1,
     "metadata": {},
     "output_type": "execute_result"
    }
   ],
   "source": [
    "text = \"안녕하세요\"\n",
    "len(text)"
   ]
  },
  {
   "cell_type": "markdown",
   "id": "a4a2c47c-db49-4053-bc2e-9ba5eee18cc2",
   "metadata": {},
   "source": [
    "## 파이썬 독스트링 \n",
    "- 클래스나 함수 만들 때 독스트링 사용해야 함\n",
    "- 독스트링 : 개발 함수를 문서화"
   ]
  },
  {
   "cell_type": "code",
   "execution_count": 5,
   "id": "9277df66-2cde-48d5-a960-84dc6f5c2569",
   "metadata": {},
   "outputs": [],
   "source": [
    "def add(a, b):\n",
    "    \"\"\"\n",
    "    Adds two numbers together.\n",
    "\n",
    "    Parameters:\n",
    "    a (int or float): The first number.\n",
    "    b (int or float): The second number.\n",
    "\n",
    "    Returns:\n",
    "    int or float: The sum of a and b.\n",
    "    \"\"\"\n",
    "    return a + b "
   ]
  },
  {
   "cell_type": "code",
   "execution_count": 6,
   "id": "55423322-f1f1-4bf2-8764-42afc4fb15f6",
   "metadata": {},
   "outputs": [
    {
     "name": "stdout",
     "output_type": "stream",
     "text": [
      "\n",
      "    Adds two numbers together.\n",
      "\n",
      "    Parameters:\n",
      "    a (int or float): The first number.\n",
      "    b (int or float): The second number.\n",
      "\n",
      "    Returns:\n",
      "    int or float: The sum of a and b.\n",
      "    \n"
     ]
    }
   ],
   "source": [
    "print(add.__doc__)"
   ]
  },
  {
   "cell_type": "code",
   "execution_count": 9,
   "id": "fcf775c7-f3a0-49eb-87eb-177af27995be",
   "metadata": {},
   "outputs": [
    {
     "data": {
      "text/plain": [
       "1564482884"
      ]
     },
     "execution_count": 9,
     "metadata": {},
     "output_type": "execute_result"
    }
   ],
   "source": [
    "def subtract(x,y): \n",
    "    return x-y \n",
    "subtract(1564498498,15614)"
   ]
  },
  {
   "cell_type": "code",
   "execution_count": 10,
   "id": "e40a558f-2afd-43a1-8a8b-5fc7635bf741",
   "metadata": {},
   "outputs": [
    {
     "data": {
      "text/plain": [
       "800"
      ]
     },
     "execution_count": 10,
     "metadata": {},
     "output_type": "execute_result"
    }
   ],
   "source": [
    "def multiply(x,y):\n",
    "    return x*y\n",
    "multiply(100, 8)"
   ]
  },
  {
   "cell_type": "code",
   "execution_count": 12,
   "id": "73bd7bc3-14eb-4d59-8ff2-f2b89843c1d2",
   "metadata": {},
   "outputs": [
    {
     "data": {
      "text/plain": [
       "8"
      ]
     },
     "execution_count": 12,
     "metadata": {},
     "output_type": "execute_result"
    }
   ],
   "source": [
    "def linear_equation(x,y):\n",
    "    \"\"\"\n",
    "    Computes the value of a linear equation 6x + y.\n",
    "\n",
    "    Parameters:\n",
    "    x (int or float): The coefficient of the variable x.\n",
    "    y (int or float): The coefficient of the variable y.\n",
    "\n",
    "    Returns:\n",
    "    int or float: The result of the linear equation 6x + y.\n",
    "    \"\"\"\n",
    "    return 6*x+y\n",
    "linear_equation(1,2)"
   ]
  },
  {
   "cell_type": "code",
   "execution_count": 13,
   "id": "874bf976-c6ee-405b-be3e-e012790c23ff",
   "metadata": {},
   "outputs": [
    {
     "name": "stdout",
     "output_type": "stream",
     "text": [
      "\n",
      "    Adds two numbers together.\n",
      "\n",
      "    Parameters:\n",
      "    a (int or float): The first number.\n",
      "    b (int or float): The second number.\n",
      "\n",
      "    Returns:\n",
      "    int or float: The sum of a and b.\n",
      "    \n"
     ]
    }
   ],
   "source": [
    "print(add.__doc__)"
   ]
  },
  {
   "cell_type": "markdown",
   "id": "75324227-34b8-4ed2-a685-3cbbe12ff10e",
   "metadata": {},
   "source": [
    "## 에러 유형 확인"
   ]
  },
  {
   "cell_type": "code",
   "execution_count": 14,
   "id": "bac8d8b1-cc73-4837-9614-0983395ed85f",
   "metadata": {},
   "outputs": [
    {
     "name": "stdout",
     "output_type": "stream",
     "text": [
      "안녕하세요\n",
      "안녕하세요\n",
      "안녕하세요\n",
      "안녕하세요\n",
      "안녕하세요\n"
     ]
    }
   ],
   "source": [
    "def print_n_times(value, n):\n",
    "    for i in range(n):\n",
    "        print(value)\n",
    "\n",
    "print_n_times(\"안녕하세요\", 5)"
   ]
  },
  {
   "cell_type": "code",
   "execution_count": 15,
   "id": "06a3ae7b-3096-4f7d-a7b2-9bc45d9000b1",
   "metadata": {},
   "outputs": [
    {
     "ename": "TypeError",
     "evalue": "print_n_times() missing 1 required positional argument: 'n'",
     "output_type": "error",
     "traceback": [
      "\u001b[1;31m---------------------------------------------------------------------------\u001b[0m",
      "\u001b[1;31mTypeError\u001b[0m                                 Traceback (most recent call last)",
      "Cell \u001b[1;32mIn[15], line 5\u001b[0m\n\u001b[0;32m      2\u001b[0m     \u001b[38;5;28;01mfor\u001b[39;00m i \u001b[38;5;129;01min\u001b[39;00m \u001b[38;5;28mrange\u001b[39m(n):\n\u001b[0;32m      3\u001b[0m         \u001b[38;5;28mprint\u001b[39m(value)\n\u001b[1;32m----> 5\u001b[0m \u001b[43mprint_n_times\u001b[49m\u001b[43m(\u001b[49m\u001b[38;5;124;43m\"\u001b[39;49m\u001b[38;5;124;43m안녕하세요\u001b[39;49m\u001b[38;5;124;43m\"\u001b[39;49m\u001b[43m,\u001b[49m\u001b[43m \u001b[49m\u001b[43m)\u001b[49m\n",
      "\u001b[1;31mTypeError\u001b[0m: print_n_times() missing 1 required positional argument: 'n'"
     ]
    }
   ],
   "source": [
    "def print_n_times(value, n):\n",
    "    for i in range(n):\n",
    "        print(value)\n",
    "\n",
    "print_n_times(\"안녕하세요\", )"
   ]
  },
  {
   "cell_type": "code",
   "execution_count": 16,
   "id": "dbccc659-fb65-4606-8fa7-5b536da1c5e1",
   "metadata": {},
   "outputs": [
    {
     "ename": "TypeError",
     "evalue": "print_n_times() takes 2 positional arguments but 3 were given",
     "output_type": "error",
     "traceback": [
      "\u001b[1;31m---------------------------------------------------------------------------\u001b[0m",
      "\u001b[1;31mTypeError\u001b[0m                                 Traceback (most recent call last)",
      "Cell \u001b[1;32mIn[16], line 5\u001b[0m\n\u001b[0;32m      2\u001b[0m     \u001b[38;5;28;01mfor\u001b[39;00m i \u001b[38;5;129;01min\u001b[39;00m \u001b[38;5;28mrange\u001b[39m(n):\n\u001b[0;32m      3\u001b[0m         \u001b[38;5;28mprint\u001b[39m(value)\n\u001b[1;32m----> 5\u001b[0m \u001b[43mprint_n_times\u001b[49m\u001b[43m(\u001b[49m\u001b[38;5;124;43m\"\u001b[39;49m\u001b[38;5;124;43m안녕하세요\u001b[39;49m\u001b[38;5;124;43m\"\u001b[39;49m\u001b[43m,\u001b[49m\u001b[43m \u001b[49m\u001b[38;5;241;43m10\u001b[39;49m\u001b[43m,\u001b[49m\u001b[43m \u001b[49m\u001b[38;5;241;43m20\u001b[39;49m\u001b[43m)\u001b[49m\n",
      "\u001b[1;31mTypeError\u001b[0m: print_n_times() takes 2 positional arguments but 3 were given"
     ]
    }
   ],
   "source": [
    "def print_n_times(value, n):\n",
    "    for i in range(n):\n",
    "        print(value)\n",
    "\n",
    "print_n_times(\"안녕하세요\", 10, 20)"
   ]
  },
  {
   "cell_type": "markdown",
   "id": "51b9571a-4119-4043-a524-e79290294777",
   "metadata": {},
   "source": [
    "## 가변 매개변수 \n",
    "- *를 매개변수에 추가\n",
    "- 매개변수를 원하는 만큼 받을 수 있는 함수 "
   ]
  },
  {
   "cell_type": "code",
   "execution_count": 21,
   "id": "a71901a7-a6bb-4bfc-aaa8-1a6944595111",
   "metadata": {},
   "outputs": [
    {
     "name": "stdout",
     "output_type": "stream",
     "text": [
      "a\n",
      "b\n",
      "c\n",
      "1\n",
      "100\n",
      "aaa\n",
      "\n",
      "a\n",
      "b\n",
      "c\n",
      "1\n",
      "100\n",
      "aaa\n",
      "\n",
      "a\n",
      "b\n",
      "c\n",
      "1\n",
      "100\n",
      "aaa\n",
      "\n"
     ]
    }
   ],
   "source": [
    "def print_n_times(n, *values):\n",
    "    for i in range(n):\n",
    "        for value in values:\n",
    "            print(value)\n",
    "        print()\n",
    "\n",
    "print_n_times(3, \"a\", \"b\", \"c\", 1, 100, \"aaa\")"
   ]
  },
  {
   "cell_type": "code",
   "execution_count": 22,
   "id": "be07433e-b0a9-495b-97cf-177611a05f18",
   "metadata": {},
   "outputs": [],
   "source": [
    "def print_n_times(n, *values):\n",
    "    for i in range(n):\n",
    "        for value in values:\n",
    "            print(value)\n",
    "        print()"
   ]
  },
  {
   "cell_type": "code",
   "execution_count": 27,
   "id": "cdbfc54b-469e-43cb-8c28-3d28de612ecd",
   "metadata": {},
   "outputs": [
    {
     "data": {
      "text/plain": [
       "10"
      ]
     },
     "execution_count": 27,
     "metadata": {},
     "output_type": "execute_result"
    }
   ],
   "source": [
    "def add_many(*nums):\n",
    "    result = 0\n",
    "    for num in nums:\n",
    "        result += num\n",
    "\n",
    "    return result\n",
    "\n",
    "add_many(1,2,3,4)"
   ]
  },
  {
   "cell_type": "markdown",
   "id": "87622f4a-6b5b-45bb-9280-ab251e16012f",
   "metadata": {},
   "source": [
    "## 키워드 매개변수 **kwargs\n",
    "- 매개변수 앞에 ** 두 개 붙인 케이스"
   ]
  },
  {
   "cell_type": "code",
   "execution_count": 28,
   "id": "353c93d9-efc5-4e55-a17c-56b6789855a1",
   "metadata": {},
   "outputs": [],
   "source": [
    "def print_kwargs(**kwargs):\n",
    "    #이 메서드에는 return 값이 없음 \n",
    "    print(kwargs) # 어떻게 출력이 될까?"
   ]
  },
  {
   "cell_type": "code",
   "execution_count": 37,
   "id": "1415e767-031f-4970-a7fa-f09ed6e8635d",
   "metadata": {},
   "outputs": [
    {
     "name": "stdout",
     "output_type": "stream",
     "text": [
      "{'a': (1, 2, 3), 'b': 'apple'}\n"
     ]
    }
   ],
   "source": [
    "print_kwargs(a = (1,2,3), b = \"apple\")"
   ]
  },
  {
   "cell_type": "code",
   "execution_count": null,
   "id": "f84bbb81-c08a-4f71-9f95-a1b2344e97e7",
   "metadata": {},
   "outputs": [],
   "source": [
    "def test1(a, b = 10, c = 100):\n",
    "    print(a+b+c)\n",
    "\n",
    "# 값을 전달할 필요가 없고, 단순 확인용으로만 함수를 만들고 싶으면 print\n",
    "\n",
    "# test1(1)\n",
    "result = test1(1)\n",
    "result"
   ]
  },
  {
   "cell_type": "code",
   "execution_count": 45,
   "id": "37713348-e11b-4fe9-bb32-efe583b8edfe",
   "metadata": {},
   "outputs": [
    {
     "data": {
      "text/plain": [
       "111"
      ]
     },
     "execution_count": 45,
     "metadata": {},
     "output_type": "execute_result"
    }
   ],
   "source": [
    "def test2(a, b = 10, c = 100):\n",
    "   return a+b+c\n",
    "\n",
    "#값을 전달해야만 할 때는 return 값을 지정. 함수를 대체 가능\n",
    "\n",
    "result = test2(1)\n",
    "result"
   ]
  },
  {
   "cell_type": "markdown",
   "id": "33f1a2e3-cf72-41b6-8ccf-28bc1c843e91",
   "metadata": {},
   "source": [
    "# 목차 2. 클래스"
   ]
  },
  {
   "cell_type": "markdown",
   "id": "cceffaa2-9511-48bd-af06-fd3e62fee008",
   "metadata": {},
   "source": [
    "## 클래스 개념 정의\n",
    "- 함수, 반복문만 적절하게 사용해도 큰 문제 없음\n",
    "- 클래스를 사용하는 이유 : \"자동화\" + 많은 사람들을 위한 배포 가능"
   ]
  },
  {
   "cell_type": "code",
   "execution_count": 47,
   "id": "e0446fc9-254c-4d82-acec-084cd276b760",
   "metadata": {},
   "outputs": [
    {
     "name": "stdout",
     "output_type": "stream",
     "text": [
      "3\n",
      "7\n"
     ]
    }
   ],
   "source": [
    "result = 0\n",
    "\n",
    "def add(num):\n",
    "    global result # 전역변수\n",
    "    result += num # 결과값에 입력값 num 더하기 \n",
    "    return result\n",
    "\n",
    "print(add(3))\n",
    "print(add(4))"
   ]
  },
  {
   "cell_type": "code",
   "execution_count": 58,
   "id": "ada83baf-58f0-40a5-a4fe-4a0c8dcda4f7",
   "metadata": {},
   "outputs": [
    {
     "name": "stdout",
     "output_type": "stream",
     "text": [
      "3\n",
      "4\n",
      "7\n",
      "8\n",
      "5\n",
      "-100\n"
     ]
    }
   ],
   "source": [
    "result1 = 0\n",
    "result2 = 0\n",
    "result3 = 0\n",
    "result4 = 0\n",
    "\n",
    "def add1(num):\n",
    "    global result1 # 전역변수\n",
    "    result1 += num # 결과값에 입력값 num 더하기 \n",
    "    return result1\n",
    "\n",
    "def add2(num):\n",
    "    global result2 # 전역변수\n",
    "    result2 += num # 결과값에 입력값 num 더하기 \n",
    "    return result2\n",
    "\n",
    "def add3(num):\n",
    "    global result3 # 전역변수\n",
    "    result3 += num # 결과값에 입력값 num 더하기 \n",
    "    return result3\n",
    "\n",
    "def sub4(num):\n",
    "    global result4\n",
    "    result4 -= num\n",
    "    return result4\n",
    "    \n",
    "\n",
    "print(add1(3)) #첫번째 사람\n",
    "print(add2(4)) #두번째 사람\n",
    "print(add1(4)) #첫번째 사람\n",
    "print(add2(4)) #두번째 사람\n",
    "print(add3(5)) #세번째 사람 \n",
    "print(sub1(100))"
   ]
  },
  {
   "cell_type": "markdown",
   "id": "35392b5b-9af0-40a2-92af-ca6fe8bc9b1f",
   "metadata": {},
   "source": [
    "# 클래스 만들기"
   ]
  },
  {
   "cell_type": "code",
   "execution_count": 78,
   "id": "ccd27660-4030-4dd9-bde4-4f9aef175f3d",
   "metadata": {},
   "outputs": [
    {
     "name": "stdout",
     "output_type": "stream",
     "text": [
      "2\n",
      "6\n",
      "4\n",
      "8\n",
      "4\n",
      "5\n",
      "-101\n",
      "-5\n"
     ]
    }
   ],
   "source": [
    "class Calculator: \n",
    "    def __init__(self):\n",
    "        self.result = 1*2-3\n",
    "        \n",
    "    #새롭게 추가된 메서드 -> 업데이트 \n",
    "    \n",
    "    def add(self, num):\n",
    "        self.result += num\n",
    "        return self.result\n",
    "    \n",
    "    def sub(self, num):\n",
    "        self.result -= num\n",
    "        return self.result\n",
    "\n",
    "    def mult(self, num):\n",
    "        self.result *= num\n",
    "        return self.result\n",
    "\n",
    "\n",
    "#사용자 1\n",
    "cal1 = Calculator()\n",
    "cal2 = Calculator()\n",
    "cal3 = Calculator()\n",
    "cal4 = Calculator()\n",
    "cal5 = Calculator()\n",
    "cal6 = Calculator()\n",
    "\n",
    "print(cal1.add(3))\n",
    "print(cal1.add(4))\n",
    "print(cal2.add(5))\n",
    "print(cal2.add(4)) \n",
    "print(cal3.add(5))\n",
    "print(cal4.add(6))\n",
    "print(cal5.sub(100))\n",
    "print(cal6.mult(5))"
   ]
  },
  {
   "cell_type": "code",
   "execution_count": 80,
   "id": "0af6dd28-34e2-491a-b6eb-62fd7bbea3a5",
   "metadata": {},
   "outputs": [],
   "source": [
    "class StudentGrade: #CamelCase로 이름 명명\n",
    "    pass"
   ]
  },
  {
   "cell_type": "markdown",
   "id": "4a26ffd6-2694-4cca-8b6a-98290f7b4d87",
   "metadata": {},
   "source": [
    "인스턴스 이름(=변수 이름); Calculator()에서 Calculator가 인스턴스 "
   ]
  },
  {
   "cell_type": "code",
   "execution_count": 82,
   "id": "b5c299c4-fdcf-4886-8d93-f07a5f0d1b5a",
   "metadata": {},
   "outputs": [],
   "source": [
    "class Student:\n",
    "    pass\n",
    "\n",
    "#학생을 선언합니다. \n",
    "희교 = Student() ## 하나의 의미있는 객체\n",
    "성민 = Student() ## 하나의 의미있는 객체\n",
    "승훈 = Student() ## 하나의 의미있는 객체"
   ]
  },
  {
   "cell_type": "code",
   "execution_count": 208,
   "id": "59d38796-3070-47d9-9b7c-9b14b18607b5",
   "metadata": {},
   "outputs": [],
   "source": [
    "class Student:\n",
    "    #상태(state)\n",
    "    def __init__(self, name, korean, math, english, science): #init은 일종의 생성자, 초기화라고 생각할 수 있음. \n",
    "        self.name = name\n",
    "        self.korean = korean\n",
    "        self.math = math\n",
    "        self.english = english\n",
    "        self.science = science \n",
    "        \n",
    "    #행동(behavior)\n",
    "    def get_sum(self): #학생들의 점수 합계 낸다는 행동 정의. \n",
    "        return self.korean + self.math + self.english + self.science\n",
    "        \n",
    "    def get_average(self):\n",
    "        return self.get_sum() / 4\n",
    "        \n",
    "    def get_grade(self):      \n",
    "        average = self.get_average()\n",
    "        if average >= 90:  \n",
    "            return 1\n",
    "        else: \n",
    "            return 2\n",
    "        \n",
    "students = [\n",
    "    Student(\"윤인성\", 87, 98, 88, 95),\n",
    "    Student(\"Evan\", 50, 20, 15, 40),\n",
    "]\n",
    "\n"
   ]
  },
  {
   "cell_type": "code",
   "execution_count": 209,
   "id": "2f31e1c0-65cc-4f99-89d1-bd6040c5213a",
   "metadata": {},
   "outputs": [],
   "source": [
    "def __str__(self):\n",
    "    return \"{}\\t{}\\t{}\\t\".format(self.name, self.get_sum(), self.get_average())"
   ]
  },
  {
   "cell_type": "code",
   "execution_count": 193,
   "id": "c980b50b-4740-4119-8698-f2d48b3d191e",
   "metadata": {},
   "outputs": [
    {
     "data": {
      "text/plain": [
       "<__main__.Student at 0x127c8649f10>"
      ]
     },
     "execution_count": 193,
     "metadata": {},
     "output_type": "execute_result"
    }
   ],
   "source": [
    "students[0]"
   ]
  },
  {
   "cell_type": "code",
   "execution_count": 194,
   "id": "9fd04529-35d8-4b9b-a801-03deaf875317",
   "metadata": {},
   "outputs": [
    {
     "data": {
      "text/plain": [
       "368"
      ]
     },
     "execution_count": 194,
     "metadata": {},
     "output_type": "execute_result"
    }
   ],
   "source": [
    "students[0].get_sum()"
   ]
  },
  {
   "cell_type": "code",
   "execution_count": 195,
   "id": "d1d1f0f3-8ccc-453e-949c-d2f054c341ea",
   "metadata": {},
   "outputs": [
    {
     "data": {
      "text/plain": [
       "125"
      ]
     },
     "execution_count": 195,
     "metadata": {},
     "output_type": "execute_result"
    }
   ],
   "source": [
    "students[1].get_sum()"
   ]
  },
  {
   "cell_type": "code",
   "execution_count": 196,
   "id": "6e4c3877-b65e-4296-bde3-64267531f993",
   "metadata": {},
   "outputs": [
    {
     "data": {
      "text/plain": [
       "92.0"
      ]
     },
     "execution_count": 196,
     "metadata": {},
     "output_type": "execute_result"
    }
   ],
   "source": [
    "students[0].get_average()"
   ]
  },
  {
   "cell_type": "code",
   "execution_count": 197,
   "id": "4dac75e6-b4f0-4a30-ac76-4d116c2903c0",
   "metadata": {},
   "outputs": [
    {
     "data": {
      "text/plain": [
       "1"
      ]
     },
     "execution_count": 197,
     "metadata": {},
     "output_type": "execute_result"
    }
   ],
   "source": [
    "students[0].get_grade()"
   ]
  },
  {
   "cell_type": "code",
   "execution_count": 198,
   "id": "12879760-38e5-49d5-8096-cfd7571922c4",
   "metadata": {},
   "outputs": [
    {
     "data": {
      "text/plain": [
       "2"
      ]
     },
     "execution_count": 198,
     "metadata": {},
     "output_type": "execute_result"
    }
   ],
   "source": [
    "students[1].get_grade()"
   ]
  },
  {
   "cell_type": "code",
   "execution_count": 199,
   "id": "e093638f-44ce-4e96-8b4d-1f5e00eec12a",
   "metadata": {},
   "outputs": [
    {
     "data": {
      "text/plain": [
       "(1, 368, 92.0)"
      ]
     },
     "execution_count": 199,
     "metadata": {},
     "output_type": "execute_result"
    }
   ],
   "source": [
    "students[0].get_grade(), students[0].get_sum(), students[0].get_average()"
   ]
  },
  {
   "cell_type": "code",
   "execution_count": 202,
   "id": "d2c2bce4-4538-437b-89ca-bc6dd94e9ab6",
   "metadata": {},
   "outputs": [
    {
     "name": "stdout",
     "output_type": "stream",
     "text": [
      "윤인성 1 368 92.0\n",
      "Evan 2 125 31.25\n"
     ]
    }
   ],
   "source": [
    "for i in range(0, len(students)): \n",
    "    print(students[i].name, students[i].get_grade(), students[i].get_sum(), students[i].get_average())"
   ]
  },
  {
   "cell_type": "code",
   "execution_count": null,
   "id": "2993460d-f1c9-4dba-9fee-8f6db07068f9",
   "metadata": {},
   "outputs": [],
   "source": [
    "for i in range"
   ]
  },
  {
   "cell_type": "markdown",
   "id": "fceb24ed-e64e-43ee-940f-ed875b1cd539",
   "metadata": {},
   "source": [
    "## 인스턴스 확인 \n",
    "- isinstance(인스턴스, 클래스)"
   ]
  },
  {
   "cell_type": "code",
   "execution_count": 203,
   "id": "37694b4e-9821-4c0f-9e71-8b7116ca3abf",
   "metadata": {},
   "outputs": [
    {
     "data": {
      "text/plain": [
       "True"
      ]
     },
     "execution_count": 203,
     "metadata": {},
     "output_type": "execute_result"
    }
   ],
   "source": [
    "class Student:\n",
    "    def __init__(self):\n",
    "        pass\n",
    "\n",
    "student = Student()\n",
    "isinstance(student, Student)"
   ]
  },
  {
   "cell_type": "code",
   "execution_count": 204,
   "id": "d0163d49-f98f-423d-9256-1c4cf1a843b3",
   "metadata": {},
   "outputs": [
    {
     "data": {
      "text/plain": [
       "False"
      ]
     },
     "execution_count": 204,
     "metadata": {},
     "output_type": "execute_result"
    }
   ],
   "source": [
    "isinstance(student, Calculator)"
   ]
  },
  {
   "cell_type": "code",
   "execution_count": null,
   "id": "cb8f6772-68a2-4c08-886e-0fd6dd9ea6c1",
   "metadata": {},
   "outputs": [],
   "source": [
    "# 상속 문법 \n",
    "\n",
    "class Human:\n",
    "    def __init__(self):\n",
    "        pass\n",
    "\n",
    "class Student(Human):\n",
    "    def __init__(self):\n",
    "        pass"
   ]
  },
  {
   "cell_type": "code",
   "execution_count": null,
   "id": "68375451-ae88-4e64-b5a8-1063c942156e",
   "metadata": {},
   "outputs": [],
   "source": [
    "class Parent:\n",
    "    pass\n",
    "\n",
    "class Child(Parent):\n",
    "    def __init__(self):\n",
    "        super().__init__()"
   ]
  },
  {
   "cell_type": "code",
   "execution_count": null,
   "id": "8efc3e26-9034-4c25-aaa4-eb8a8d734d8c",
   "metadata": {},
   "outputs": [],
   "source": []
  }
 ],
 "metadata": {
  "kernelspec": {
   "display_name": "Python 3 (ipykernel)",
   "language": "python",
   "name": "python3"
  },
  "language_info": {
   "codemirror_mode": {
    "name": "ipython",
    "version": 3
   },
   "file_extension": ".py",
   "mimetype": "text/x-python",
   "name": "python",
   "nbconvert_exporter": "python",
   "pygments_lexer": "ipython3",
   "version": "3.11.7"
  }
 },
 "nbformat": 4,
 "nbformat_minor": 5
}
