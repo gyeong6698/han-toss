{
 "cells": [
  {
   "cell_type": "markdown",
   "id": "ec526b13-336d-4898-9b79-5d05f0956924",
   "metadata": {},
   "source": [
    "# 목차 1. 리스트\n",
    "- 리스트 선언 후, 인덱싱&슬라이싱"
   ]
  },
  {
   "cell_type": "markdown",
   "id": "32f2bbef-2e56-4977-81cd-48d1a0706164",
   "metadata": {},
   "source": [
    "## 리스트 복습"
   ]
  },
  {
   "cell_type": "code",
   "execution_count": 7,
   "id": "426c305a-b7a3-4b9f-b6ec-07f5037a3854",
   "metadata": {},
   "outputs": [
    {
     "data": {
      "text/plain": [
       "273"
      ]
     },
     "execution_count": 7,
     "metadata": {},
     "output_type": "execute_result"
    }
   ],
   "source": [
    "list_a = [273, 32, 'A', True, [1,2,3]]\n",
    "list_a[0]"
   ]
  },
  {
   "cell_type": "code",
   "execution_count": 2,
   "id": "466301b6-e8c0-4df0-8d42-7c48a6477330",
   "metadata": {},
   "outputs": [
    {
     "data": {
      "text/plain": [
       "2"
      ]
     },
     "execution_count": 2,
     "metadata": {},
     "output_type": "execute_result"
    }
   ],
   "source": [
    "list_a[4][1]"
   ]
  },
  {
   "cell_type": "code",
   "execution_count": 3,
   "id": "36d06eaf-5de8-4eaa-8577-b7e5362f1276",
   "metadata": {},
   "outputs": [
    {
     "data": {
      "text/plain": [
       "'A'"
      ]
     },
     "execution_count": 3,
     "metadata": {},
     "output_type": "execute_result"
    }
   ],
   "source": [
    "list_a[2] #인덱싱"
   ]
  },
  {
   "cell_type": "code",
   "execution_count": 4,
   "id": "195ee7f5-ddc6-44ad-babc-36a9f7dedab9",
   "metadata": {},
   "outputs": [
    {
     "data": {
      "text/plain": [
       "[273, 32, 'A']"
      ]
     },
     "execution_count": 4,
     "metadata": {},
     "output_type": "execute_result"
    }
   ],
   "source": [
    "list_a[0:3] #슬라이싱"
   ]
  },
  {
   "cell_type": "code",
   "execution_count": 5,
   "id": "343c7bc5-a0dc-4eb5-b9c5-c59d6b59d1e7",
   "metadata": {},
   "outputs": [
    {
     "data": {
      "text/plain": [
       "[1, 2, 3]"
      ]
     },
     "execution_count": 5,
     "metadata": {},
     "output_type": "execute_result"
    }
   ],
   "source": [
    "list_a[-1]"
   ]
  },
  {
   "cell_type": "code",
   "execution_count": 13,
   "id": "be7659d3-cdd9-4121-ad00-ccfb890fb449",
   "metadata": {},
   "outputs": [
    {
     "data": {
      "text/plain": [
       "[1, 2, 3]"
      ]
     },
     "execution_count": 13,
     "metadata": {},
     "output_type": "execute_result"
    }
   ],
   "source": [
    "list_a = [273, 32, 'A', True, [1,2,3,]]\n",
    "list_a[4]"
   ]
  },
  {
   "cell_type": "markdown",
   "id": "f718dc4b-dcc2-4593-afc9-ad36b9ab3476",
   "metadata": {},
   "source": [
    "## 리스트 복합 연산\n",
    "연결(+), 반복(*), len()"
   ]
  },
  {
   "cell_type": "code",
   "execution_count": 10,
   "id": "22c4cacb-225d-489c-bb19-a3ad3fc3c510",
   "metadata": {},
   "outputs": [
    {
     "data": {
      "text/plain": [
       "[1, 2, 3, 4, 5, 6]"
      ]
     },
     "execution_count": 10,
     "metadata": {},
     "output_type": "execute_result"
    }
   ],
   "source": [
    "list_a = [1, 2, 3]\n",
    "list_b = [4, 5, 6]\n",
    "list_a + list_b"
   ]
  },
  {
   "cell_type": "code",
   "execution_count": 11,
   "id": "96410348-50f8-40ea-97ac-c3a91a7aa2b5",
   "metadata": {},
   "outputs": [
    {
     "data": {
      "text/plain": [
       "[1, 2, 3, 1, 2, 3, 1, 2, 3]"
      ]
     },
     "execution_count": 11,
     "metadata": {},
     "output_type": "execute_result"
    }
   ],
   "source": [
    "list_a * 3"
   ]
  },
  {
   "cell_type": "code",
   "execution_count": 12,
   "id": "9f6a1e5c-51d2-4b97-8038-6fd09107d99d",
   "metadata": {},
   "outputs": [
    {
     "ename": "TypeError",
     "evalue": "can only concatenate list (not \"int\") to list",
     "output_type": "error",
     "traceback": [
      "\u001b[1;31m---------------------------------------------------------------------------\u001b[0m",
      "\u001b[1;31mTypeError\u001b[0m                                 Traceback (most recent call last)",
      "Cell \u001b[1;32mIn[12], line 1\u001b[0m\n\u001b[1;32m----> 1\u001b[0m \u001b[43mlist_a\u001b[49m\u001b[43m \u001b[49m\u001b[38;5;241;43m+\u001b[39;49m\u001b[43m \u001b[49m\u001b[38;5;241;43m4\u001b[39;49m\n",
      "\u001b[1;31mTypeError\u001b[0m: can only concatenate list (not \"int\") to list"
     ]
    }
   ],
   "source": [
    "#리스트는 오직 다른 리스트와 concatenate(연결 될 수 있음)\n",
    "list_a + 4"
   ]
  },
  {
   "cell_type": "code",
   "execution_count": 14,
   "id": "89913ad3-8fb7-4b3e-9a22-35791ae256b7",
   "metadata": {},
   "outputs": [
    {
     "data": {
      "text/plain": [
       "[273, 32, 'A', True, [1, 2, 3], 4]"
      ]
     },
     "execution_count": 14,
     "metadata": {},
     "output_type": "execute_result"
    }
   ],
   "source": [
    "list_a + [4]"
   ]
  },
  {
   "cell_type": "code",
   "execution_count": 15,
   "id": "6edb54d6-7f0f-4a6a-abc1-7c9cb923af37",
   "metadata": {},
   "outputs": [
    {
     "ename": "TypeError",
     "evalue": "'int' object is not iterable",
     "output_type": "error",
     "traceback": [
      "\u001b[1;31m---------------------------------------------------------------------------\u001b[0m",
      "\u001b[1;31mTypeError\u001b[0m                                 Traceback (most recent call last)",
      "Cell \u001b[1;32mIn[15], line 1\u001b[0m\n\u001b[1;32m----> 1\u001b[0m list_a \u001b[38;5;241m+\u001b[39m \u001b[38;5;28;43mlist\u001b[39;49m\u001b[43m(\u001b[49m\u001b[38;5;241;43m4\u001b[39;49m\u001b[43m)\u001b[49m\n",
      "\u001b[1;31mTypeError\u001b[0m: 'int' object is not iterable"
     ]
    }
   ],
   "source": [
    "list_a + list(4)"
   ]
  },
  {
   "cell_type": "code",
   "execution_count": 18,
   "id": "5e10251d-9056-480f-929c-8242f106fc72",
   "metadata": {},
   "outputs": [
    {
     "data": {
      "text/plain": [
       "[273, 32, 'A', True, [1, 2, 3], 'a']"
      ]
     },
     "execution_count": 18,
     "metadata": {},
     "output_type": "execute_result"
    }
   ],
   "source": [
    "list_a + list('a')"
   ]
  },
  {
   "cell_type": "markdown",
   "id": "58c2ea9b-938b-43a7-8a0d-f03c32918269",
   "metadata": {},
   "source": [
    "- 숫자는 scalar 자료형\n",
    "- 문자는 sequence 자료형 "
   ]
  },
  {
   "cell_type": "code",
   "execution_count": 19,
   "id": "c5e3d746-c87c-40b4-8db7-d59260c8a7ef",
   "metadata": {},
   "outputs": [
    {
     "data": {
      "text/plain": [
       "[273, 32, 410, True, [1, 2, 3]]"
      ]
     },
     "execution_count": 19,
     "metadata": {},
     "output_type": "execute_result"
    }
   ],
   "source": [
    "list_a = [273, 32, 'A', True, [1,2,3,]]\n",
    "#list_a[인덱스번호] = 새로운 값\n",
    "list_a[2] = 410\n",
    "list_a"
   ]
  },
  {
   "cell_type": "code",
   "execution_count": 20,
   "id": "baa742b0-a7e8-48e5-b40e-7f91f72611b4",
   "metadata": {},
   "outputs": [
    {
     "data": {
      "text/plain": [
       "5"
      ]
     },
     "execution_count": 20,
     "metadata": {},
     "output_type": "execute_result"
    }
   ],
   "source": [
    "len(list_a)"
   ]
  },
  {
   "cell_type": "markdown",
   "id": "968ebd1a-496a-43fc-b6c8-8c474c1860a8",
   "metadata": {},
   "source": [
    "## 리스트 요소 추가\n",
    "- append()와 insert()"
   ]
  },
  {
   "cell_type": "code",
   "execution_count": 21,
   "id": "70413f22-c049-4a95-ba26-3fef4f19e2d0",
   "metadata": {},
   "outputs": [
    {
     "data": {
      "text/plain": [
       "[1, 2, 3, 4, 'A']"
      ]
     },
     "execution_count": 21,
     "metadata": {},
     "output_type": "execute_result"
    }
   ],
   "source": [
    "list_a = [1, 2, 3]\n",
    "list_a.append(4)\n",
    "list_a.append(\"A\")\n",
    "list_a"
   ]
  },
  {
   "cell_type": "code",
   "execution_count": 23,
   "id": "c5e9cb0a-7ff6-456a-80ea-e770841268a6",
   "metadata": {},
   "outputs": [
    {
     "data": {
      "text/plain": [
       "[100, 100, 1, 2, 3, 4, 'A']"
      ]
     },
     "execution_count": 23,
     "metadata": {},
     "output_type": "execute_result"
    }
   ],
   "source": [
    "list_a.insert(1,100)\n",
    "list_a"
   ]
  },
  {
   "cell_type": "code",
   "execution_count": 24,
   "id": "f0b1501a-226a-40a1-9b39-f3cf5536b093",
   "metadata": {},
   "outputs": [
    {
     "data": {
      "text/plain": [
       "[1, 2, 3, 100, 4, 'A']"
      ]
     },
     "execution_count": 24,
     "metadata": {},
     "output_type": "execute_result"
    }
   ],
   "source": [
    "list_a = [1, 2, 3]\n",
    "list_a.append(4)\n",
    "list_a.append(\"A\")\n",
    "list_a.insert(3,100)\n",
    "list_a"
   ]
  },
  {
   "cell_type": "markdown",
   "id": "a588a570-11e4-45a0-8048-2d2c750b9e35",
   "metadata": {},
   "source": [
    "## Iterable과 Scala 차이 : extend()\n",
    "- extend() 함수는 매개변수로 리스트를 입력"
   ]
  },
  {
   "cell_type": "code",
   "execution_count": 28,
   "id": "bc0eab08-cbbf-4834-82e7-d37e98c94a20",
   "metadata": {},
   "outputs": [
    {
     "data": {
      "text/plain": [
       "[1, 2, 3, 'a']"
      ]
     },
     "execution_count": 28,
     "metadata": {},
     "output_type": "execute_result"
    }
   ],
   "source": [
    "list_a = [1, 2, 3]\n",
    "list_a.extend(\"a\")\n",
    "list_a"
   ]
  },
  {
   "cell_type": "code",
   "execution_count": 30,
   "id": "812a7953-2773-418d-88ae-2fc4ed257e3c",
   "metadata": {},
   "outputs": [
    {
     "data": {
      "text/plain": [
       "[1, 2, 3, 4, 5, 6]"
      ]
     },
     "execution_count": 30,
     "metadata": {},
     "output_type": "execute_result"
    }
   ],
   "source": [
    "list_a = [1, 2, 3]\n",
    "list_a.extend([4,5,6])\n",
    "list_a"
   ]
  },
  {
   "cell_type": "markdown",
   "id": "a4b92a83-8bd7-43b3-a716-f6a586feace1",
   "metadata": {},
   "source": [
    "## list에서 요소 제거하기 : del 키워드, pop() 키워드"
   ]
  },
  {
   "cell_type": "code",
   "execution_count": 32,
   "id": "37e194c0-6476-465b-89dd-805ace9e6b0c",
   "metadata": {},
   "outputs": [
    {
     "data": {
      "text/plain": [
       "['b', 'c', 'd']"
      ]
     },
     "execution_count": 32,
     "metadata": {},
     "output_type": "execute_result"
    }
   ],
   "source": [
    "list_a = [\"a\", \"b\", \"c\", \"d\"]\n",
    "del list_a[0]\n",
    "list_a"
   ]
  },
  {
   "cell_type": "code",
   "execution_count": 34,
   "id": "2ee2abab-f05a-4c8a-8f66-aa606f68062f",
   "metadata": {},
   "outputs": [
    {
     "data": {
      "text/plain": [
       "[5, 6, 7]"
      ]
     },
     "execution_count": 34,
     "metadata": {},
     "output_type": "execute_result"
    }
   ],
   "source": [
    "list_b = [5, 6, 7, [1, 2, 3]]\n",
    "del list_b[3]\n",
    "list_b"
   ]
  },
  {
   "cell_type": "code",
   "execution_count": 36,
   "id": "c49dd81b-7669-4b52-9924-690f7c3b1bc4",
   "metadata": {},
   "outputs": [
    {
     "data": {
      "text/plain": [
       "['c', 'd']"
      ]
     },
     "execution_count": 36,
     "metadata": {},
     "output_type": "execute_result"
    }
   ],
   "source": [
    "list_a = [\"a\", \"b\", \"c\", \"d\"]\n",
    "del list_a[0:2]\n",
    "list_a"
   ]
  },
  {
   "cell_type": "code",
   "execution_count": 35,
   "id": "23fd141e-9386-487d-9385-e4ac2f106b17",
   "metadata": {},
   "outputs": [
    {
     "data": {
      "text/plain": [
       "['a', 'c', 'd']"
      ]
     },
     "execution_count": 35,
     "metadata": {},
     "output_type": "execute_result"
    }
   ],
   "source": [
    "list_a = [\"a\", \"b\", \"c\", \"d\"]\n",
    "list_a.pop(1)\n",
    "list_a"
   ]
  },
  {
   "cell_type": "markdown",
   "id": "8511b842-4671-4af5-8bcc-1bafcdc660d4",
   "metadata": {},
   "source": [
    "## 값으로 제거하기 : remove()\n",
    "- del, pop과 달리 실제 값으로 요소 제거 "
   ]
  },
  {
   "cell_type": "code",
   "execution_count": 37,
   "id": "de7943ac-10e3-4ac2-b3f2-4577ec9e93b7",
   "metadata": {},
   "outputs": [
    {
     "data": {
      "text/plain": [
       "['b', 'c', 'd']"
      ]
     },
     "execution_count": 37,
     "metadata": {},
     "output_type": "execute_result"
    }
   ],
   "source": [
    "list_a = [\"a\", \"b\", \"c\", \"d\"]\n",
    "list_a.remove(\"a\")\n",
    "list_a"
   ]
  },
  {
   "cell_type": "code",
   "execution_count": 40,
   "id": "21b55821-e13c-4e88-bcee-c587bfaf31bc",
   "metadata": {},
   "outputs": [
    {
     "data": {
      "text/plain": [
       "['b', 'a', 'c', 'd']"
      ]
     },
     "execution_count": 40,
     "metadata": {},
     "output_type": "execute_result"
    }
   ],
   "source": [
    "list_a = [\"a\", \"b\", \"a\", \"c\", \"d\"]\n",
    "list_a.remove(\"a\")\n",
    "list_a"
   ]
  },
  {
   "cell_type": "code",
   "execution_count": 42,
   "id": "de19e9f0-f9ed-41bc-b3d9-5303b3f2fbdf",
   "metadata": {},
   "outputs": [
    {
     "data": {
      "text/plain": [
       "['b', 'c', 'd']"
      ]
     },
     "execution_count": 42,
     "metadata": {},
     "output_type": "execute_result"
    }
   ],
   "source": [
    "list_a = [\"a\", \"b\", \"a\", \"c\", \"d\"]\n",
    "list_a.remove(\"a\")\n",
    "list_a.remove(\"a\")\n",
    "list_a"
   ]
  },
  {
   "cell_type": "markdown",
   "id": "c0fc4850-4b8f-4041-bf5d-d90185ad000c",
   "metadata": {},
   "source": [
    "## list 요소 모두 제거 : .clear()"
   ]
  },
  {
   "cell_type": "code",
   "execution_count": 43,
   "id": "560aee2f-914c-4537-8a1e-af509b2e51f4",
   "metadata": {},
   "outputs": [
    {
     "data": {
      "text/plain": [
       "[]"
      ]
     },
     "execution_count": 43,
     "metadata": {},
     "output_type": "execute_result"
    }
   ],
   "source": [
    "list_a = [\"a\", \"b\", \"a\", \"c\", \"d\"]\n",
    "list_a.clear()\n",
    "list_a"
   ]
  },
  {
   "cell_type": "markdown",
   "id": "db089966-773a-448e-b845-628615ec7a41",
   "metadata": {},
   "source": [
    "## 리스트 정렬하기 : sort()"
   ]
  },
  {
   "cell_type": "code",
   "execution_count": 44,
   "id": "797cbc95-92f2-4f13-9603-a7009b7e7418",
   "metadata": {},
   "outputs": [
    {
     "data": {
      "text/plain": [
       "[32, 52, 103, 273]"
      ]
     },
     "execution_count": 44,
     "metadata": {},
     "output_type": "execute_result"
    }
   ],
   "source": [
    "list_a = [52, 273, 103, 32]\n",
    "list_a.sort()\n",
    "list_a"
   ]
  },
  {
   "cell_type": "code",
   "execution_count": 45,
   "id": "cfe20759-a8bd-4df8-a029-4fcc60edd440",
   "metadata": {},
   "outputs": [
    {
     "data": {
      "text/plain": [
       "[273, 103, 52, 32]"
      ]
     },
     "execution_count": 45,
     "metadata": {},
     "output_type": "execute_result"
    }
   ],
   "source": [
    "list_a.sort(reverse=True)\n",
    "list_a"
   ]
  },
  {
   "cell_type": "markdown",
   "id": "004de8d9-b486-4759-a6d1-db3b06a1acc1",
   "metadata": {},
   "source": [
    "## 리스트 내부에 있는지 확인하기 : in/not in 연산자\n",
    "-문자열과 비슷 "
   ]
  },
  {
   "cell_type": "code",
   "execution_count": 46,
   "id": "c92168c2-18c7-4b02-8c14-eb09b83453c4",
   "metadata": {},
   "outputs": [
    {
     "data": {
      "text/plain": [
       "True"
      ]
     },
     "execution_count": 46,
     "metadata": {},
     "output_type": "execute_result"
    }
   ],
   "source": [
    "\"a\" in \"abc\""
   ]
  },
  {
   "cell_type": "code",
   "execution_count": 47,
   "id": "3cb6c734-b14c-4705-83e2-fde1b5c0f6dd",
   "metadata": {},
   "outputs": [
    {
     "data": {
      "text/plain": [
       "True"
      ]
     },
     "execution_count": 47,
     "metadata": {},
     "output_type": "execute_result"
    }
   ],
   "source": [
    "273 in [52, 273, 103, 32]"
   ]
  },
  {
   "cell_type": "markdown",
   "id": "dafc0cfb-9bfc-423f-8347-2a42e37ae6b7",
   "metadata": {},
   "source": [
    "# 목차 2. 튜플"
   ]
  },
  {
   "cell_type": "markdown",
   "id": "9aa1ea35-f5f7-49a5-9218-9177d486023f",
   "metadata": {},
   "source": [
    "## 튜플\n",
    "- 리스트와 유사한 자료형"
   ]
  },
  {
   "cell_type": "code",
   "execution_count": 48,
   "id": "d5ec5997-8754-4b32-96e3-e373770c0aa5",
   "metadata": {},
   "outputs": [
    {
     "data": {
      "text/plain": [
       "(10, 20, 30)"
      ]
     },
     "execution_count": 48,
     "metadata": {},
     "output_type": "execute_result"
    }
   ],
   "source": [
    "tuple_test = (10, 20, 30) \n",
    "tuple_test"
   ]
  },
  {
   "cell_type": "code",
   "execution_count": 49,
   "id": "84b97350-4ee3-4b47-8f4a-af389c6ec8bc",
   "metadata": {},
   "outputs": [
    {
     "data": {
      "text/plain": [
       "10"
      ]
     },
     "execution_count": 49,
     "metadata": {},
     "output_type": "execute_result"
    }
   ],
   "source": [
    "tuple_test[0]"
   ]
  },
  {
   "cell_type": "code",
   "execution_count": 50,
   "id": "bdee10df-65d1-40da-8d5a-810d0a9b91e0",
   "metadata": {},
   "outputs": [
    {
     "data": {
      "text/plain": [
       "20"
      ]
     },
     "execution_count": 50,
     "metadata": {},
     "output_type": "execute_result"
    }
   ],
   "source": [
    "tuple_test[1]"
   ]
  },
  {
   "cell_type": "code",
   "execution_count": 51,
   "id": "9d7e8993-07d4-43e3-8f5b-50fc78ed021c",
   "metadata": {},
   "outputs": [
    {
     "data": {
      "text/plain": [
       "30"
      ]
     },
     "execution_count": 51,
     "metadata": {},
     "output_type": "execute_result"
    }
   ],
   "source": [
    "tuple_test[2]"
   ]
  },
  {
   "cell_type": "code",
   "execution_count": 52,
   "id": "a57bf79b-878a-474d-a93c-b6154647dd68",
   "metadata": {},
   "outputs": [
    {
     "data": {
      "text/plain": [
       "(10,)"
      ]
     },
     "execution_count": 52,
     "metadata": {},
     "output_type": "execute_result"
    }
   ],
   "source": [
    "tuple_test[0:1]"
   ]
  },
  {
   "cell_type": "code",
   "execution_count": 53,
   "id": "1c45a083-ef84-4c14-914e-699abc721074",
   "metadata": {},
   "outputs": [
    {
     "ename": "TypeError",
     "evalue": "'tuple' object does not support item assignment",
     "output_type": "error",
     "traceback": [
      "\u001b[1;31m---------------------------------------------------------------------------\u001b[0m",
      "\u001b[1;31mTypeError\u001b[0m                                 Traceback (most recent call last)",
      "Cell \u001b[1;32mIn[53], line 1\u001b[0m\n\u001b[1;32m----> 1\u001b[0m \u001b[43mtuple_test\u001b[49m\u001b[43m[\u001b[49m\u001b[38;5;241;43m0\u001b[39;49m\u001b[43m]\u001b[49m \u001b[38;5;241m=\u001b[39m \u001b[38;5;241m100\u001b[39m\n",
      "\u001b[1;31mTypeError\u001b[0m: 'tuple' object does not support item assignment"
     ]
    }
   ],
   "source": [
    "tuple_test[0] = 100"
   ]
  },
  {
   "cell_type": "code",
   "execution_count": 54,
   "id": "ad82c176-22e4-4024-aac0-8198cddb526f",
   "metadata": {},
   "outputs": [
    {
     "ename": "TypeError",
     "evalue": "'tuple' object doesn't support item deletion",
     "output_type": "error",
     "traceback": [
      "\u001b[1;31m---------------------------------------------------------------------------\u001b[0m",
      "\u001b[1;31mTypeError\u001b[0m                                 Traceback (most recent call last)",
      "Cell \u001b[1;32mIn[54], line 1\u001b[0m\n\u001b[1;32m----> 1\u001b[0m \u001b[38;5;28;01mdel\u001b[39;00m \u001b[43mtuple_test\u001b[49m\u001b[43m[\u001b[49m\u001b[38;5;241;43m0\u001b[39;49m\u001b[43m]\u001b[49m\n",
      "\u001b[1;31mTypeError\u001b[0m: 'tuple' object doesn't support item deletion"
     ]
    }
   ],
   "source": [
    "del tuple_test[0]"
   ]
  },
  {
   "cell_type": "markdown",
   "id": "7440f992-923e-45e5-bea9-9581c48ebbe5",
   "metadata": {},
   "source": [
    "# 목차 3.딕셔너리"
   ]
  },
  {
   "cell_type": "markdown",
   "id": "49e893d9-8815-4fc3-902c-4a9a73192d7d",
   "metadata": {},
   "source": [
    "## 딕셔너리 \n",
    "-Web 관련 자료형 중에서 JSON 형태와 유사\n",
    "-Pandas 데이터프레임을 만들 때도 매우 자주 사용\n",
    "-사전식 구성 연상\n",
    "    +키워드 입력 ==> 다양한 의미\n",
    "    +Love, 동사, 명사 등등등"
   ]
  },
  {
   "cell_type": "code",
   "execution_count": 89,
   "id": "d95f6c40-fa22-41b7-b5c4-3c01a51d1d0e",
   "metadata": {},
   "outputs": [
    {
     "data": {
      "text/plain": [
       "{'name': '어벤저스 엔드게임',\n",
       " 'type': '히어로 무비',\n",
       " 'director': ['안소니 루소', '조 루소'],\n",
       " 'year': 2019}"
      ]
     },
     "execution_count": 89,
     "metadata": {},
     "output_type": "execute_result"
    }
   ],
   "source": [
    "dict_a = {\n",
    "    \"name\" : \"어벤저스 엔드게임\", \n",
    "    \"type\" : \"히어로 무비\", \n",
    "    \"director\" : [\"안소니 루소\", \"조 루소\"], \n",
    "    \"year\" : 2019\n",
    "}\n",
    "\n",
    "dict_a"
   ]
  },
  {
   "cell_type": "code",
   "execution_count": 90,
   "id": "0aef3fa2-8e67-439e-8d53-85b708377d7b",
   "metadata": {},
   "outputs": [
    {
     "data": {
      "text/plain": [
       "['안소니 루소', '조 루소']"
      ]
     },
     "execution_count": 90,
     "metadata": {},
     "output_type": "execute_result"
    }
   ],
   "source": [
    "dict_a['director']"
   ]
  },
  {
   "cell_type": "code",
   "execution_count": 91,
   "id": "8492dbae-e1a6-4139-bd65-2af5ce13fae9",
   "metadata": {},
   "outputs": [
    {
     "data": {
      "text/plain": [
       "'안소니 루소'"
      ]
     },
     "execution_count": 91,
     "metadata": {},
     "output_type": "execute_result"
    }
   ],
   "source": [
    "dict_a['director'][0]"
   ]
  },
  {
   "cell_type": "code",
   "execution_count": 92,
   "id": "4f8d40d2-5d21-459d-a71a-b65e83d4c0fb",
   "metadata": {},
   "outputs": [
    {
     "data": {
      "text/plain": [
       "'안소니'"
      ]
     },
     "execution_count": 92,
     "metadata": {},
     "output_type": "execute_result"
    }
   ],
   "source": [
    "dict_a['director'][0][0:3]"
   ]
  },
  {
   "cell_type": "code",
   "execution_count": 93,
   "id": "34d73500-fe0f-48f1-8c17-2cc273e37bbe",
   "metadata": {},
   "outputs": [
    {
     "data": {
      "text/plain": [
       "['안소니 루소', '조 루소', 'a']"
      ]
     },
     "execution_count": 93,
     "metadata": {},
     "output_type": "execute_result"
    }
   ],
   "source": [
    "dict_a['director'].append(\"a\")\n",
    "dict_a['director']"
   ]
  },
  {
   "cell_type": "code",
   "execution_count": 65,
   "id": "dc956b69-d28b-4973-80a7-bc47afa32380",
   "metadata": {},
   "outputs": [
    {
     "data": {
      "text/plain": [
       "{'name': '7D 건조 망고'}"
      ]
     },
     "execution_count": 65,
     "metadata": {},
     "output_type": "execute_result"
    }
   ],
   "source": [
    "# key 설정 시, 무조건 따옴표 사용\n",
    "dict_key = {\n",
    "    'name' : \"7D 건조 망고\", \n",
    "}\n",
    "dict_key"
   ]
  },
  {
   "cell_type": "code",
   "execution_count": 69,
   "id": "3559c2aa-148c-485c-a329-5897f496aa79",
   "metadata": {},
   "outputs": [
    {
     "data": {
      "text/plain": [
       "{'name': '7D 건조 망고',\n",
       " '새로운키': '새로운 값',\n",
       " 'price': [1, 2, 3, 4, 5],\n",
       " '새로운딕셔너리': {'a': 1, 'b': [1, 2, 3]}}"
      ]
     },
     "execution_count": 69,
     "metadata": {},
     "output_type": "execute_result"
    }
   ],
   "source": [
    "dict_key['새로운키'] = \"새로운 값\"\n",
    "dict_key['price'] = [1, 2, 3, 4, 5]\n",
    "dict_key['새로운딕셔너리'] = {'a':1, 'b':[1,2,3]}\n",
    "dict_key"
   ]
  },
  {
   "cell_type": "code",
   "execution_count": 77,
   "id": "897acf63-e658-4a4d-8c68-37286589fb20",
   "metadata": {},
   "outputs": [
    {
     "data": {
      "text/plain": [
       "{'name': '7D 건조 망고', '새로운키': '새로운 값', 'price': [1, 2, 3, 4, 5]}"
      ]
     },
     "execution_count": 77,
     "metadata": {},
     "output_type": "execute_result"
    }
   ],
   "source": [
    "del dict_key['새로운딕셔너리']\n",
    "dict_key"
   ]
  },
  {
   "cell_type": "code",
   "execution_count": 78,
   "id": "38f850d9-72ac-468c-8346-20e9241c20a3",
   "metadata": {},
   "outputs": [
    {
     "data": {
      "text/plain": [
       "dict_keys(['name', '새로운키', 'price'])"
      ]
     },
     "execution_count": 78,
     "metadata": {},
     "output_type": "execute_result"
    }
   ],
   "source": [
    "dict_key.keys()"
   ]
  },
  {
   "cell_type": "code",
   "execution_count": 79,
   "id": "fc792515-0340-4336-b623-eda38cb1e664",
   "metadata": {},
   "outputs": [
    {
     "data": {
      "text/plain": [
       "dict_values(['7D 건조 망고', '새로운 값', [1, 2, 3, 4, 5]])"
      ]
     },
     "execution_count": 79,
     "metadata": {},
     "output_type": "execute_result"
    }
   ],
   "source": [
    "dict_key.values()"
   ]
  },
  {
   "cell_type": "code",
   "execution_count": 80,
   "id": "9e46ba89-3422-4b4c-aca9-a1d99f009ba8",
   "metadata": {},
   "outputs": [
    {
     "data": {
      "text/plain": [
       "dict_items([('name', '7D 건조 망고'), ('새로운키', '새로운 값'), ('price', [1, 2, 3, 4, 5])])"
      ]
     },
     "execution_count": 80,
     "metadata": {},
     "output_type": "execute_result"
    }
   ],
   "source": [
    "dict_key.items()"
   ]
  },
  {
   "cell_type": "code",
   "execution_count": 82,
   "id": "80ad03a1-2951-48e9-ada9-bd3698532939",
   "metadata": {},
   "outputs": [
    {
     "ename": "AttributeError",
     "evalue": "'dict_keys' object has no attribute 'append'",
     "output_type": "error",
     "traceback": [
      "\u001b[1;31m---------------------------------------------------------------------------\u001b[0m",
      "\u001b[1;31mAttributeError\u001b[0m                            Traceback (most recent call last)",
      "Cell \u001b[1;32mIn[82], line 2\u001b[0m\n\u001b[0;32m      1\u001b[0m temp \u001b[38;5;241m=\u001b[39m dict_key\u001b[38;5;241m.\u001b[39mkeys()\n\u001b[1;32m----> 2\u001b[0m \u001b[43mtemp\u001b[49m\u001b[38;5;241;43m.\u001b[39;49m\u001b[43mappend\u001b[49m(\u001b[38;5;124m'\u001b[39m\u001b[38;5;124m가격\u001b[39m\u001b[38;5;124m'\u001b[39m)\n",
      "\u001b[1;31mAttributeError\u001b[0m: 'dict_keys' object has no attribute 'append'"
     ]
    }
   ],
   "source": [
    "temp = dict_key.keys()\n",
    "temp.append('가격')"
   ]
  },
  {
   "cell_type": "code",
   "execution_count": 85,
   "id": "d500b4f5-c3b9-4a19-87ad-2da6d22c2a3a",
   "metadata": {},
   "outputs": [
    {
     "name": "stdout",
     "output_type": "stream",
     "text": [
      "['name', '새로운키', 'price', '가격']\n"
     ]
    }
   ],
   "source": [
    "temp = list(dict_key.keys())\n",
    "temp.append('가격')\n",
    "print(temp)"
   ]
  },
  {
   "cell_type": "markdown",
   "id": "65f87350-556a-43ab-98a1-946a6d61f6e8",
   "metadata": {},
   "source": [
    "# 목차 4. 조건문"
   ]
  },
  {
   "cell_type": "markdown",
   "id": "82ef4111-d0c2-4b20-ab12-526cf80477bc",
   "metadata": {},
   "source": [
    "## 조건문 정의\n",
    "- 00 조건을 만족한다 ==> True\n",
    "      +그러면, 우리가 output A을 해야지.\n",
    "- 00 조건을 만족하지 못함 ==> False\n",
    "      +그러면, 우리가 output B를 해야지.\n",
    "- if-else\n",
    "- True 절 만드는 것이 핵심! "
   ]
  },
  {
   "cell_type": "code",
   "execution_count": 97,
   "id": "3869c7a0-ffc9-4221-a96f-88c47a36b589",
   "metadata": {},
   "outputs": [
    {
     "name": "stdout",
     "output_type": "stream",
     "text": [
      "1보다 작음\n"
     ]
    }
   ],
   "source": [
    "a = 1\n",
    "if a > 1:    # <----해당되는 조건식을 만드는 것이 핵심\n",
    "    print(\"1보다 큼\")\n",
    "else:\n",
    "    print(\"1보다 작음\")"
   ]
  },
  {
   "cell_type": "code",
   "execution_count": 98,
   "id": "dbaa679d-3206-49cc-abf1-38bfb7d68601",
   "metadata": {},
   "outputs": [
    {
     "name": "stdout",
     "output_type": "stream",
     "text": [
      "True 입니다\n"
     ]
    }
   ],
   "source": [
    "if True:\n",
    "    print(\"True 입니다\")"
   ]
  },
  {
   "cell_type": "code",
   "execution_count": 101,
   "id": "13d9ee59-1a69-488b-be00-fdd564e5106b",
   "metadata": {},
   "outputs": [],
   "source": [
    "if False:\n",
    "    print(\"False 입니다\")"
   ]
  },
  {
   "cell_type": "code",
   "execution_count": 104,
   "id": "78785d1d-f10a-420a-b978-fdfc693a4ece",
   "metadata": {},
   "outputs": [
    {
     "name": "stdout",
     "output_type": "stream",
     "text": [
      "정수 입력해주세요!! -6\n"
     ]
    },
    {
     "name": "stdout",
     "output_type": "stream",
     "text": [
      "-6\n",
      "음수\n"
     ]
    }
   ],
   "source": [
    "number = input(\"정수 입력해주세요!!\")\n",
    "number = int(number)\n",
    "\n",
    "print(number)\n",
    "\n",
    "#양수 조건\n",
    "if number > 0:\n",
    "    print(\"양수\")\n",
    "\n",
    "if number < 0:\n",
    "    print(\"음수\")\n",
    "\n",
    "if number == 0:\n",
    "    print(\"0\")"
   ]
  },
  {
   "cell_type": "markdown",
   "id": "44b17c73-32db-468b-a198-62c988fa7756",
   "metadata": {},
   "source": [
    "시나리오\n",
    "- 여러분의 돈이 00 있음\n",
    "- 파이브 가이즈 햄버거 세트 가격이 35,000원.\n",
    "- 햄버거를 먹을 수 있는 상황/그렇지 못한 상황에 대해 프로그래밍 하세요. "
   ]
  },
  {
   "cell_type": "code",
   "execution_count": 106,
   "id": "99b44b93-974a-49e0-a127-70e77e00a3c5",
   "metadata": {},
   "outputs": [
    {
     "name": "stdout",
     "output_type": "stream",
     "text": [
      "정수 입력해주세요 18000\n"
     ]
    },
    {
     "name": "stdout",
     "output_type": "stream",
     "text": [
      "18000\n",
      "굶으세요\n"
     ]
    }
   ],
   "source": [
    "money = input(\"정수 입력해주세요\")\n",
    "money = int(money)    #그냥 money = int(input(\"돈 입력\") 으로 합쳐버릴 수도 있음. (효율적)\n",
    "\n",
    "print(money)\n",
    "\n",
    "#햄버거 조건\n",
    "if money > 35000:\n",
    "    print(\"먹으세요\")\n",
    "\n",
    "else:\n",
    "    print(\"굶으세요\")"
   ]
  },
  {
   "cell_type": "code",
   "execution_count": 110,
   "id": "4508d5e1-8051-4d82-81ca-22db77a27129",
   "metadata": {},
   "outputs": [
    {
     "name": "stdout",
     "output_type": "stream",
     "text": [
      "돈 입력 18000\n"
     ]
    },
    {
     "name": "stdout",
     "output_type": "stream",
     "text": [
      "공부나 하자\n"
     ]
    }
   ],
   "source": [
    "money = int(input(\"돈 입력\"))\n",
    "PRICE = 35000\n",
    "if money >= PRICE: \n",
    "    print(\"맛있게 먹으세요\")\n",
    "else:\n",
    "    print(\"공부나 하자\")"
   ]
  },
  {
   "cell_type": "markdown",
   "id": "ba5a1f0e-3096-42a9-9cf5-3ae46be4caef",
   "metadata": {},
   "source": [
    "## if-else와 elif 조건문"
   ]
  },
  {
   "cell_type": "code",
   "execution_count": 130,
   "id": "061d487d-8d8d-4aa9-af80-dd5781e41047",
   "metadata": {},
   "outputs": [
    {
     "name": "stdout",
     "output_type": "stream",
     "text": [
      "<class 'int'>\n",
      "모름\n"
     ]
    }
   ],
   "source": [
    "import datetime \n",
    "\n",
    "#현재 날짜와 시간 구하기\n",
    "#월 추출해서 현재 계절 확인\n",
    "\n",
    "now = datetime.datetime.now()\n",
    "month = 100\n",
    "print(type(month))\n",
    "\n",
    "if 3<= month <= 5:\n",
    "     print(\"봄\")\n",
    "elif 6 <= month <= 8:\n",
    "    print(\"여름\")\n",
    "elif 9 <= month <= 11: \n",
    "    print(\"가을\")\n",
    "else:\n",
    "    print(\"모름\")"
   ]
  },
  {
   "cell_type": "markdown",
   "id": "e967ee2a-3726-4411-90cb-61d137ae5e1b",
   "metadata": {},
   "source": [
    "## 날짜/시간 활용하기\n",
    "- datetime (파이썬 기본 라이브러리)\n",
    "  + 공식문서 찾아야 함. \n",
    "- pandas to_datetime :\n",
    "https://pandas.pydata.org/docs/reference/api/pandas.to_datetime.html"
   ]
  },
  {
   "cell_type": "code",
   "execution_count": 113,
   "id": "96e496c9-6c30-4ac1-a1ac-375664dd541b",
   "metadata": {},
   "outputs": [
    {
     "data": {
      "text/plain": [
       "datetime.datetime(2024, 6, 27, 14, 38, 29, 166852)"
      ]
     },
     "execution_count": 113,
     "metadata": {},
     "output_type": "execute_result"
    }
   ],
   "source": [
    "import datetime \n",
    "\n",
    "#현재 날짜/시간 구하기\n",
    "now = datetime.datetime.now()\n",
    "now"
   ]
  },
  {
   "cell_type": "code",
   "execution_count": 114,
   "id": "f1c970df-a208-47d8-baa5-9ea927e918d7",
   "metadata": {},
   "outputs": [
    {
     "data": {
      "text/plain": [
       "2024"
      ]
     },
     "execution_count": 114,
     "metadata": {},
     "output_type": "execute_result"
    }
   ],
   "source": [
    "now = datetime.datetime.now()\n",
    "now.year"
   ]
  },
  {
   "cell_type": "code",
   "execution_count": 115,
   "id": "397e5578-e2c5-4a53-8c68-2f0f991ca200",
   "metadata": {},
   "outputs": [
    {
     "data": {
      "text/plain": [
       "6"
      ]
     },
     "execution_count": 115,
     "metadata": {},
     "output_type": "execute_result"
    }
   ],
   "source": [
    "now.month"
   ]
  },
  {
   "cell_type": "code",
   "execution_count": 116,
   "id": "41bed7be-60de-4a9f-a4d8-c926b7c6608b",
   "metadata": {},
   "outputs": [
    {
     "name": "stdout",
     "output_type": "stream",
     "text": [
      "6 월\n"
     ]
    }
   ],
   "source": [
    "print(now.month, \"월\")"
   ]
  },
  {
   "cell_type": "code",
   "execution_count": 119,
   "id": "30aa751e-c0ed-4742-bc51-8c8ebd18ce4c",
   "metadata": {},
   "outputs": [
    {
     "name": "stdout",
     "output_type": "stream",
     "text": [
      "2024년 6월 27일\n"
     ]
    }
   ],
   "source": [
    "print(f'{now.year}년 {now.month}월 {now.day}일')"
   ]
  },
  {
   "cell_type": "code",
   "execution_count": null,
   "id": "e508fc4a-ba0a-42f5-9b59-648acb1e36db",
   "metadata": {},
   "outputs": [],
   "source": [
    "number = int(input(\"정수를 입력하세요\"))\n",
    "\n",
    "if number % 2 == 0:\n",
    "    print(\"짝수\")\n",
    "else:\n",
    "    print(\"홀수\")\n",
    "\n",
    "print(number)"
   ]
  },
  {
   "cell_type": "code",
   "execution_count": null,
   "id": "b5307de6-0d9b-42bb-ac23-4c76ec547d19",
   "metadata": {},
   "outputs": [],
   "source": [
    "import datetime\n",
    "\n",
    "now = datetime.datetime.now()\n",
    "month = now.month\n",
    "\n",
    "if 3 <= month <= 5:\n",
    "    print(\"봄\")\n",
    "elif 6 <= month <= 8:\n",
    "    print(\"여름\")\n",
    "elif 9<= month <= 11:\n",
    "    print(\"가을\")\n",
    "else:\n",
    "    print(\"겨울\")\n"
   ]
  },
  {
   "cell_type": "markdown",
   "id": "8b2e278c-f6c3-4391-95ce-e85509b4d3b7",
   "metadata": {},
   "source": [
    "## pass\n",
    "- 나중에 코드 작성하려고 잠시 비워 둘 때 사용함\n",
    "- pass 대신 raise NotImplementedError 사용하면 오류 발생시킬 수도 있음. "
   ]
  },
  {
   "cell_type": "code",
   "execution_count": null,
   "id": "0a937d4e-b5b9-49e9-b253-18492a59685d",
   "metadata": {},
   "outputs": [],
   "source": [
    "num = int(input(\"숫자를 입력하세요\"))\n",
    "if num > 0:\n",
    "    #코드 디테일하게 작성\n",
    "    pass\n",
    "else:\n",
    "   pass\n",
    "\n",
    "print(\"완료\")"
   ]
  },
  {
   "cell_type": "markdown",
   "id": "ec57efa9-8bca-459b-8906-ec3cb934993b",
   "metadata": {},
   "source": [
    "# 목차 5. 반복문"
   ]
  },
  {
   "cell_type": "markdown",
   "id": "db6f8963-7d3a-42d6-8db7-12c6de622ee8",
   "metadata": {},
   "source": [
    "## for 반복문\n",
    "- p.207\n",
    "- 몇번을 반복해야 하는지 사용자가 지정"
   ]
  },
  {
   "cell_type": "code",
   "execution_count": 1,
   "id": "f9a5546b-3820-41c9-ae7d-e92ebc64866f",
   "metadata": {},
   "outputs": [
    {
     "name": "stdout",
     "output_type": "stream",
     "text": [
      "출력\n",
      "출력\n"
     ]
    }
   ],
   "source": [
    "print(\"출력\")\n",
    "print(\"출력\")"
   ]
  },
  {
   "cell_type": "code",
   "execution_count": 2,
   "id": "197b2c06-442c-4dec-a1f2-3d0d2c77fd3d",
   "metadata": {},
   "outputs": [
    {
     "name": "stdout",
     "output_type": "stream",
     "text": [
      "출력\n",
      "출력\n",
      "출력\n"
     ]
    }
   ],
   "source": [
    "for i in range(3): # 처음에 범위 지정할 때, 3번 정도 확인\n",
    "  print(\"출력\")"
   ]
  },
  {
   "cell_type": "code",
   "execution_count": 3,
   "id": "910b0078-1da9-49b2-9c06-0e6611c8f861",
   "metadata": {},
   "outputs": [
    {
     "name": "stdout",
     "output_type": "stream",
     "text": [
      "a\n",
      "b\n",
      "c\n",
      "d\n",
      "e\n"
     ]
    }
   ],
   "source": [
    "array = [\"a\", \"b\", \"c\", \"d\", \"e\"]\n",
    "for element in array: \n",
    "    print(element)"
   ]
  },
  {
   "cell_type": "code",
   "execution_count": 6,
   "id": "442e07f8-58ac-4f90-89f0-595c3cfc2376",
   "metadata": {},
   "outputs": [
    {
     "name": "stdout",
     "output_type": "stream",
     "text": [
      "1\n",
      "2\n",
      "3\n"
     ]
    }
   ],
   "source": [
    "tuple = (1, 2, 3) \n",
    "for element in tuple: \n",
    "    print(element)"
   ]
  },
  {
   "cell_type": "code",
   "execution_count": 14,
   "id": "be3e9e82-56d8-40cb-9d2c-a2a69430cad0",
   "metadata": {},
   "outputs": [
    {
     "name": "stdout",
     "output_type": "stream",
     "text": [
      "[1, 2, 3]\n",
      "1\n",
      "2\n",
      "3\n",
      "[4, 5, 6, 7]\n",
      "4\n",
      "5\n",
      "6\n",
      "7\n",
      "[8, 9]\n",
      "8\n",
      "9\n"
     ]
    }
   ],
   "source": [
    "list_of_list = [[1, 2, 3], [4, 5, 6, 7], [8, 9]]\n",
    "list_of_list\n",
    "\n",
    "for items in list_of_list:\n",
    "    print(items)\n",
    "    for item in items:\n",
    "        print(item)"
   ]
  },
  {
   "cell_type": "code",
   "execution_count": 24,
   "id": "22daddae-bf94-4ba3-a2de-558f5fe78ad4",
   "metadata": {},
   "outputs": [
    {
     "name": "stdout",
     "output_type": "stream",
     "text": [
      "2 * 2 = 4\n",
      "2 * 3 = 6\n",
      "2 * 4 = 8\n",
      "2 * 5 = 10\n",
      "2 * 6 = 12\n",
      "2 * 7 = 14\n",
      "2 * 8 = 16\n",
      "2 * 9 = 18\n",
      "3 * 2 = 6\n",
      "3 * 3 = 9\n",
      "3 * 4 = 12\n",
      "3 * 5 = 15\n",
      "3 * 6 = 18\n",
      "3 * 7 = 21\n",
      "3 * 8 = 24\n",
      "3 * 9 = 27\n",
      "4 * 2 = 8\n",
      "4 * 3 = 12\n",
      "4 * 4 = 16\n",
      "4 * 5 = 20\n",
      "4 * 6 = 24\n",
      "4 * 7 = 28\n",
      "4 * 8 = 32\n",
      "4 * 9 = 36\n",
      "5 * 2 = 10\n",
      "5 * 3 = 15\n",
      "5 * 4 = 20\n",
      "5 * 5 = 25\n",
      "5 * 6 = 30\n",
      "5 * 7 = 35\n",
      "5 * 8 = 40\n",
      "5 * 9 = 45\n",
      "6 * 2 = 12\n",
      "6 * 3 = 18\n",
      "6 * 4 = 24\n",
      "6 * 5 = 30\n",
      "6 * 6 = 36\n",
      "6 * 7 = 42\n",
      "6 * 8 = 48\n",
      "6 * 9 = 54\n",
      "7 * 2 = 14\n",
      "7 * 3 = 21\n",
      "7 * 4 = 28\n",
      "7 * 5 = 35\n",
      "7 * 6 = 42\n",
      "7 * 7 = 49\n",
      "7 * 8 = 56\n",
      "7 * 9 = 63\n",
      "8 * 2 = 16\n",
      "8 * 3 = 24\n",
      "8 * 4 = 32\n",
      "8 * 5 = 40\n",
      "8 * 6 = 48\n",
      "8 * 7 = 56\n",
      "8 * 8 = 64\n",
      "8 * 9 = 72\n",
      "9 * 2 = 18\n",
      "9 * 3 = 27\n",
      "9 * 4 = 36\n",
      "9 * 5 = 45\n",
      "9 * 6 = 54\n",
      "9 * 7 = 63\n",
      "9 * 8 = 72\n",
      "9 * 9 = 81\n"
     ]
    }
   ],
   "source": [
    "#예제 : #구구단을 자유자재로 만들기! \n",
    "num1 = [2, 3, 4, 5, 6, 7, 8, 9]\n",
    "num2 = [2, 3, 4, 5, 6, 7, 8, 9]\n",
    "\n",
    "for x in num1:\n",
    "    for y in num2:\n",
    "        print(x,'*',y, '=', x * y)"
   ]
  },
  {
   "cell_type": "code",
   "execution_count": 28,
   "id": "58ec9bed-6557-4376-ba19-31dcc2b279a0",
   "metadata": {},
   "outputs": [
    {
     "name": "stdout",
     "output_type": "stream",
     "text": [
      "2\n",
      "2 * 1 = 2\n",
      "2 * 2 = 4\n",
      "2 * 3 = 6\n",
      "2 * 4 = 8\n",
      "2 * 5 = 10\n",
      "2 * 6 = 12\n",
      "2 * 7 = 14\n",
      "2 * 8 = 16\n",
      "2 * 9 = 18\n",
      "3\n",
      "3 * 1 = 3\n",
      "3 * 2 = 6\n",
      "3 * 3 = 9\n",
      "3 * 4 = 12\n",
      "3 * 5 = 15\n",
      "3 * 6 = 18\n",
      "3 * 7 = 21\n",
      "3 * 8 = 24\n",
      "3 * 9 = 27\n",
      "4\n",
      "4 * 1 = 4\n",
      "4 * 2 = 8\n",
      "4 * 3 = 12\n",
      "4 * 4 = 16\n",
      "4 * 5 = 20\n",
      "4 * 6 = 24\n",
      "4 * 7 = 28\n",
      "4 * 8 = 32\n",
      "4 * 9 = 36\n",
      "5\n",
      "5 * 1 = 5\n",
      "5 * 2 = 10\n",
      "5 * 3 = 15\n",
      "5 * 4 = 20\n",
      "5 * 5 = 25\n",
      "5 * 6 = 30\n",
      "5 * 7 = 35\n",
      "5 * 8 = 40\n",
      "5 * 9 = 45\n",
      "6\n",
      "6 * 1 = 6\n",
      "6 * 2 = 12\n",
      "6 * 3 = 18\n",
      "6 * 4 = 24\n",
      "6 * 5 = 30\n",
      "6 * 6 = 36\n",
      "6 * 7 = 42\n",
      "6 * 8 = 48\n",
      "6 * 9 = 54\n",
      "7\n",
      "7 * 1 = 7\n",
      "7 * 2 = 14\n",
      "7 * 3 = 21\n",
      "7 * 4 = 28\n",
      "7 * 5 = 35\n",
      "7 * 6 = 42\n",
      "7 * 7 = 49\n",
      "7 * 8 = 56\n",
      "7 * 9 = 63\n",
      "8\n",
      "8 * 1 = 8\n",
      "8 * 2 = 16\n",
      "8 * 3 = 24\n",
      "8 * 4 = 32\n",
      "8 * 5 = 40\n",
      "8 * 6 = 48\n",
      "8 * 7 = 56\n",
      "8 * 8 = 64\n",
      "8 * 9 = 72\n",
      "9\n",
      "9 * 1 = 9\n",
      "9 * 2 = 18\n",
      "9 * 3 = 27\n",
      "9 * 4 = 36\n",
      "9 * 5 = 45\n",
      "9 * 6 = 54\n",
      "9 * 7 = 63\n",
      "9 * 8 = 72\n",
      "9 * 9 = 81\n"
     ]
    }
   ],
   "source": [
    "num1 = [2, 3, 4, 5, 6, 7, 8, 9]\n",
    "num2 = [1, *num1]\n",
    "\n",
    "for a in num1:\n",
    "    print(a)\n",
    "    for b in num2:\n",
    "        print(a,'*',b, '=', a*b)\n",
    "        "
   ]
  },
  {
   "cell_type": "markdown",
   "id": "6d296ee6-e987-410d-b1d9-691d0e60c408",
   "metadata": {},
   "source": [
    "## 리스트 컴프리헨션\n",
    "- pythonic한 코드\n",
    "- 반복문을 한줄로 처리\n",
    "- 결과값은 리스트로 반환  "
   ]
  },
  {
   "cell_type": "code",
   "execution_count": 30,
   "id": "2caaf128-b18d-4d1a-b7fd-76e939df9c87",
   "metadata": {},
   "outputs": [
    {
     "name": "stdout",
     "output_type": "stream",
     "text": [
      "3\n",
      "6\n",
      "9\n",
      "12\n"
     ]
    }
   ],
   "source": [
    "a = [1, 2, 3, 4]\n",
    "result = []\n",
    "for num in a:\n",
    "    print(num*3)"
   ]
  },
  {
   "cell_type": "code",
   "execution_count": 32,
   "id": "775ac2fc-f3a3-4bdf-bb94-a3a35bb8c034",
   "metadata": {},
   "outputs": [
    {
     "data": {
      "text/plain": [
       "[3, 6, 9, 12]"
      ]
     },
     "execution_count": 32,
     "metadata": {},
     "output_type": "execute_result"
    }
   ],
   "source": [
    "a = [1, 2, 3, 4]\n",
    "result = []\n",
    "for num in a:\n",
    "    result.append(num*3)\n",
    "\n",
    "result"
   ]
  },
  {
   "cell_type": "code",
   "execution_count": 33,
   "id": "9df6be4b-72a1-4b8a-8dad-c65ddcc2a21b",
   "metadata": {},
   "outputs": [
    {
     "data": {
      "text/plain": [
       "[3, 6, 9, 12]"
      ]
     },
     "execution_count": 33,
     "metadata": {},
     "output_type": "execute_result"
    }
   ],
   "source": [
    "b = [1, 2, 3, 4]\n",
    "result2 = [num * 3 for num in b]\n",
    "result2"
   ]
  },
  {
   "cell_type": "code",
   "execution_count": 35,
   "id": "51c654c1-6d35-476d-8580-3e9e5f327594",
   "metadata": {},
   "outputs": [
    {
     "name": "stdout",
     "output_type": "stream",
     "text": [
      "1 10 10\n",
      "2 20 40\n",
      "3 30 90\n",
      "4 40 160\n"
     ]
    },
    {
     "data": {
      "text/plain": [
       "[10, 40, 90, 160]"
      ]
     },
     "execution_count": 35,
     "metadata": {},
     "output_type": "execute_result"
    }
   ],
   "source": [
    "num1 = [1, 2, 3, 4]\n",
    "num2 = [10, 20, 30, 40]\n",
    "result = []\n",
    "for n1, n2 in zip(num1, num2):\n",
    "    print(n1, n2, n1*n2)\n",
    "    result.append(n1*n2)\n",
    "result"
   ]
  },
  {
   "cell_type": "code",
   "execution_count": 41,
   "id": "d5427d3a-4fa3-49b4-8ab6-98b1defad317",
   "metadata": {},
   "outputs": [
    {
     "data": {
      "text/plain": [
       "[10, 40, 90, 160]"
      ]
     },
     "execution_count": 41,
     "metadata": {},
     "output_type": "execute_result"
    }
   ],
   "source": [
    "num1 = [1, 2, 3, 4]\n",
    "num2 = [10, 20, 30, 40]\n",
    "\n",
    "result = [n1 * n2 for n1, n2 in zip(num1, num2)]\n",
    "result"
   ]
  },
  {
   "cell_type": "code",
   "execution_count": 42,
   "id": "af775c5f-a56c-4a2b-8894-4cd7b523c9c1",
   "metadata": {},
   "outputs": [
    {
     "data": {
      "text/plain": [
       "[10]"
      ]
     },
     "execution_count": 42,
     "metadata": {},
     "output_type": "execute_result"
    }
   ],
   "source": [
    "num1 = [1, 2, 3, 4]\n",
    "num2 = [10, 20, 30, 40]\n",
    "\n",
    "result4 = [num1[0] * num2[0]]\n",
    "result4"
   ]
  },
  {
   "cell_type": "markdown",
   "id": "e1f2e8b4-7884-4979-b1d2-0b247dbf0024",
   "metadata": {},
   "source": [
    "## while 반복문\n",
    "- 조건식이 참이면 계속 수행함\n",
    "- 예) 게임 (자동사냥)\n",
    "      + 자동사냥 버튼 ==> True"
   ]
  },
  {
   "cell_type": "code",
   "execution_count": null,
   "id": "d1122960-bdcc-4474-ae0f-bb4501897578",
   "metadata": {},
   "outputs": [],
   "source": [
    "while 불 표현식 : ### 조건식, True가 조건식을 작성"
   ]
  },
  {
   "cell_type": "markdown",
   "id": "3e47f228-96f4-48a0-8d67-ceaf87cde4de",
   "metadata": {},
   "source": [
    "## while을 for 반복문처럼 사용"
   ]
  },
  {
   "cell_type": "code",
   "execution_count": 1,
   "id": "958406e2-04e8-4249-8852-2ce6fa91fc54",
   "metadata": {},
   "outputs": [
    {
     "name": "stdout",
     "output_type": "stream",
     "text": [
      "0번째 반복입니다.\n",
      "1번째 반복입니다.\n",
      "2번째 반복입니다.\n",
      "3번째 반복입니다.\n",
      "4번째 반복입니다.\n",
      "5번째 반복입니다.\n",
      "6번째 반복입니다.\n",
      "7번째 반복입니다.\n",
      "8번째 반복입니다.\n",
      "9번째 반복입니다.\n"
     ]
    }
   ],
   "source": [
    "i = 0 \n",
    "while i<10:\n",
    "    print('{}번째 반복입니다.'.format(i))\n",
    "    i +=1 #하나씩 증가시키겠다는 의미"
   ]
  },
  {
   "cell_type": "code",
   "execution_count": 2,
   "id": "0d4ab656-ea94-4bf7-b4f3-b8a70ccb4984",
   "metadata": {},
   "outputs": [
    {
     "name": "stdout",
     "output_type": "stream",
     "text": [
      "0번째 반복입니다.\n",
      "1번째 반복입니다.\n",
      "2번째 반복입니다.\n",
      "3번째 반복입니다.\n",
      "4번째 반복입니다.\n",
      "5번째 반복입니다.\n",
      "6번째 반복입니다.\n",
      "7번째 반복입니다.\n",
      "8번째 반복입니다.\n",
      "9번째 반복입니다.\n",
      "10\n"
     ]
    }
   ],
   "source": [
    "i = 0 \n",
    "while i<10:\n",
    "    print('{}번째 반복입니다.'.format(i))\n",
    "    i +=1 #하나씩 증가시키겠다는 의미\n",
    "\n",
    "print(i)"
   ]
  },
  {
   "cell_type": "code",
   "execution_count": 4,
   "id": "83a4bc55-2e5e-4d3b-a301-15168f9ff664",
   "metadata": {},
   "outputs": [
    {
     "name": "stdout",
     "output_type": "stream",
     "text": [
      "[1, 1]\n"
     ]
    }
   ],
   "source": [
    "list_test = [1, 2, 1, 2]\n",
    "value = 2\n",
    "\n",
    "while value in list_test:\n",
    "    list_test.remove(value)\n",
    "\n",
    "print(list_test)"
   ]
  },
  {
   "cell_type": "code",
   "execution_count": 5,
   "id": "94da2865-df1e-4dde-a6bf-479eacedaa86",
   "metadata": {},
   "outputs": [
    {
     "data": {
      "text/plain": [
       "True"
      ]
     },
     "execution_count": 5,
     "metadata": {},
     "output_type": "execute_result"
    }
   ],
   "source": [
    "list_test = [1, 2, 1, 2]\n",
    "value = 2\n",
    "\n",
    "value in list_Test"
   ]
  },
  {
   "cell_type": "markdown",
   "id": "24edcc02-5b35-43fd-ab67-8d32b5815d2a",
   "metadata": {},
   "source": [
    "## 시간을 기반으로 반복하기"
   ]
  },
  {
   "cell_type": "code",
   "execution_count": 15,
   "id": "53605283-e3d3-47e3-bf91-64375d747737",
   "metadata": {},
   "outputs": [
    {
     "data": {
      "text/plain": [
       "1719538108.4283028"
      ]
     },
     "execution_count": 15,
     "metadata": {},
     "output_type": "execute_result"
    }
   ],
   "source": [
    "import time \n",
    "\n",
    "time.time()"
   ]
  },
  {
   "cell_type": "code",
   "execution_count": 14,
   "id": "9b65dc18-f9d8-4f1b-a9d4-27c7641c9332",
   "metadata": {},
   "outputs": [
    {
     "data": {
      "text/plain": [
       "50758282"
      ]
     },
     "execution_count": 14,
     "metadata": {},
     "output_type": "execute_result"
    }
   ],
   "source": [
    "number = 0\n",
    "\n",
    "#5초 동안 반복\n",
    "target_tick = time.time() + 5 \n",
    "while time.time() < target_tick:\n",
    "    number += 1 \n",
    "number"
   ]
  },
  {
   "cell_type": "markdown",
   "id": "6864c1de-d345-4293-88af-0afd0ad881f9",
   "metadata": {},
   "source": [
    "## break와 continue"
   ]
  },
  {
   "cell_type": "code",
   "execution_count": 23,
   "id": "a3fe1ae1-a346-48c0-b52c-063c0ec21042",
   "metadata": {},
   "outputs": [
    {
     "name": "stdout",
     "output_type": "stream",
     "text": [
      "5\n",
      "6\n",
      "7\n",
      "10\n",
      "15\n"
     ]
    }
   ],
   "source": [
    "numbers = [5, 6, 7, 10, 15, 25] \n",
    "\n",
    "for number in numbers:\n",
    "    print(number)\n",
    "    if number > 10: #브레이크 걸 타이밍 설정 # print 실행 후 break \n",
    "        break "
   ]
  },
  {
   "cell_type": "code",
   "execution_count": 24,
   "id": "64e51890-7248-441a-87c2-618517e18fe9",
   "metadata": {},
   "outputs": [
    {
     "name": "stdout",
     "output_type": "stream",
     "text": [
      "5\n",
      "6\n",
      "7\n",
      "10\n"
     ]
    }
   ],
   "source": [
    "numbers = [5, 6, 7, 10, 15, 25] \n",
    "\n",
    "for number in numbers:\n",
    "    if number > 10: #print 실행 전 break\n",
    "        break\n",
    "    print(number)"
   ]
  },
  {
   "cell_type": "code",
   "execution_count": 27,
   "id": "76e56bd0-d620-41db-9bdb-6477aaa7776e",
   "metadata": {},
   "outputs": [
    {
     "name": "stdout",
     "output_type": "stream",
     "text": [
      "15\n",
      "10\n",
      "25\n"
     ]
    }
   ],
   "source": [
    "numbers = [5, 15, 7, 10, 8, 25] \n",
    "\n",
    "for number in numbers:\n",
    "    if number < 10: # 10보다 작은 number은 생략하고 다음 반복해서 print\n",
    "        continue\n",
    "    print(number)"
   ]
  },
  {
   "cell_type": "code",
   "execution_count": null,
   "id": "63cca2d3-8944-42c0-b445-8e5318b8560d",
   "metadata": {},
   "outputs": [],
   "source": []
  }
 ],
 "metadata": {
  "kernelspec": {
   "display_name": "Python 3 (ipykernel)",
   "language": "python",
   "name": "python3"
  },
  "language_info": {
   "codemirror_mode": {
    "name": "ipython",
    "version": 3
   },
   "file_extension": ".py",
   "mimetype": "text/x-python",
   "name": "python",
   "nbconvert_exporter": "python",
   "pygments_lexer": "ipython3",
   "version": "3.11.7"
  }
 },
 "nbformat": 4,
 "nbformat_minor": 5
}
