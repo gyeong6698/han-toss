{
 "cells": [
  {
   "cell_type": "code",
   "execution_count": 2,
   "id": "8862427d-dd88-47e3-b873-5f07865f199a",
   "metadata": {},
   "outputs": [
    {
     "name": "stdout",
     "output_type": "stream",
     "text": [
      "이름\t나이\t지역\n"
     ]
    }
   ],
   "source": [
    "print(\"이름\\t나이\\t지역\")"
   ]
  },
  {
   "cell_type": "code",
   "execution_count": 3,
   "id": "6f630b8d-0362-4de9-8724-46533c919d2e",
   "metadata": {},
   "outputs": [
    {
     "name": "stdout",
     "output_type": "stream",
     "text": [
      "\"안녕하세요\"라고 말했습니다\n"
     ]
    }
   ],
   "source": [
    "print('\"안녕하세요\"라고 말했습니다')"
   ]
  },
  {
   "cell_type": "code",
   "execution_count": 4,
   "id": "be03d6a7-b102-4e73-9aa7-e29b6678e0ec",
   "metadata": {},
   "outputs": [
    {
     "name": "stdout",
     "output_type": "stream",
     "text": [
      "\"안녕하세요\"라고 말했습니다\n"
     ]
    }
   ],
   "source": [
    "print(\"\\\"안녕하세요\\\"라고 말했습니다\")"
   ]
  },
  {
   "cell_type": "code",
   "execution_count": 5,
   "id": "a496cc26-3574-4203-bb7f-568c3797d0df",
   "metadata": {},
   "outputs": [
    {
     "name": "stdout",
     "output_type": "stream",
     "text": [
      "안\n"
     ]
    }
   ],
   "source": [
    "print(\"안녕하세요\"[0])"
   ]
  },
  {
   "cell_type": "code",
   "execution_count": 7,
   "id": "ddabad33-e631-4d5a-8d5a-6669592ddad0",
   "metadata": {},
   "outputs": [
    {
     "name": "stdout",
     "output_type": "stream",
     "text": [
      "안\n",
      "녕\n",
      "하\n",
      "세\n",
      "요\n"
     ]
    }
   ],
   "source": [
    "list = (\"안녕하세요\") \n",
    "for items in list:\n",
    "    print (items)"
   ]
  },
  {
   "cell_type": "code",
   "execution_count": 8,
   "id": "64a801a8-ea05-4ee4-9f41-21dc0476ef52",
   "metadata": {},
   "outputs": [
    {
     "name": "stdout",
     "output_type": "stream",
     "text": [
      "긴 코드를 입력할 때는 \n",
      "여러 줄로 나타나는데 \n",
      "이걸 역슬래시로 바꾸는 것보다는 \n",
      "어쩌구저쩌구\n"
     ]
    }
   ],
   "source": [
    "print(\"\"\"긴 코드를 입력할 때는 \n",
    "여러 줄로 나타나는데 \n",
    "이걸 역슬래시로 바꾸는 것보다는 \n",
    "어쩌구저쩌구\"\"\")"
   ]
  },
  {
   "cell_type": "code",
   "execution_count": 9,
   "id": "d6da5a60-86e9-46c9-bd2e-ef00f1317bee",
   "metadata": {},
   "outputs": [
    {
     "name": "stdout",
     "output_type": "stream",
     "text": [
      "5%2= 1\n"
     ]
    }
   ],
   "source": [
    "print(\"5%2=\", 5%2)"
   ]
  },
  {
   "cell_type": "code",
   "execution_count": null,
   "id": "e37a785e-860e-4275-96c8-7e57bae0934e",
   "metadata": {},
   "outputs": [],
   "source": []
  }
 ],
 "metadata": {
  "kernelspec": {
   "display_name": "Python 3 (ipykernel)",
   "language": "python",
   "name": "python3"
  },
  "language_info": {
   "codemirror_mode": {
    "name": "ipython",
    "version": 3
   },
   "file_extension": ".py",
   "mimetype": "text/x-python",
   "name": "python",
   "nbconvert_exporter": "python",
   "pygments_lexer": "ipython3",
   "version": "3.11.7"
  }
 },
 "nbformat": 4,
 "nbformat_minor": 5
}
